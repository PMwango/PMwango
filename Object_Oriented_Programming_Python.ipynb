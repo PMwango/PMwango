{
  "nbformat": 4,
  "nbformat_minor": 0,
  "metadata": {
    "colab": {
      "provenance": [],
      "authorship_tag": "ABX9TyOyDT/cg31HYbrIRut238T3",
      "include_colab_link": true
    },
    "kernelspec": {
      "name": "python3",
      "display_name": "Python 3"
    },
    "language_info": {
      "name": "python"
    }
  },
  "cells": [
    {
      "cell_type": "markdown",
      "metadata": {
        "id": "view-in-github",
        "colab_type": "text"
      },
      "source": [
        "<a href=\"https://colab.research.google.com/github/PMwango/PMwango/blob/main/Object_Oriented_Programming_Python.ipynb\" target=\"_parent\"><img src=\"https://colab.research.google.com/assets/colab-badge.svg\" alt=\"Open In Colab\"/></a>"
      ]
    },
    {
      "cell_type": "code",
      "source": [
        "#An object is an instance of a class.\n",
        "#By using programming, we can create representations of real life objects\n",
        "#By asigning attributes (what an object is/as) and methods (what an object does)\n",
        "\n",
        "#Class- A 'blueprint' that describes what attributes and methods that a distint object has.\n",
        "#Can be created in the main module or separate file for larger classes.\n",
        "#A common naming convention: Class names start with capital letters.\n",
        "#Pass- placeholder when typing code that is yet to be executed."
      ],
      "metadata": {
        "id": "AyX99krAP9CP"
      },
      "execution_count": null,
      "outputs": []
    },
    {
      "cell_type": "code",
      "source": [
        "#Base class\n",
        "class Car:\n",
        "  pass\n",
        "\n",
        "  def __init__ (self, make, model, year, colour):\n",
        "  def drive(self):\n",
        "    print (\"This car is driving\")\n",
        "  def stop (self):\n",
        "    print (\"This car is stopped\")\n"
      ],
      "metadata": {
        "id": "Irqwx0F_P--2"
      },
      "execution_count": null,
      "outputs": []
    },
    {
      "cell_type": "code",
      "execution_count": null,
      "metadata": {
        "colab": {
          "base_uri": "https://localhost:8080/"
        },
        "id": "8yjnFBvH8koT",
        "outputId": "75633cbe-8947-4bb9-9184-3f160fe8a27a"
      },
      "outputs": [
        {
          "output_type": "stream",
          "name": "stdout",
          "text": [
            "Fluffy says Woof!\n",
            "Kasongo says Meow!\n",
            "Lucky says Moo!\n"
          ]
        }
      ],
      "source": [
        "\n",
        "\n",
        "#Base class\n",
        "class Animal:\n",
        "  def __init__ (self,name):\n",
        "    self.name = name\n",
        "  def make_sound (self):\n",
        "    pass\n",
        "\n",
        "#subclass with different behaviours\n",
        "class Dog(Animal):\n",
        "  def make_sound(self):\n",
        "    return f\"{self.name} says Woof!\"\n",
        "\n",
        "class Cat(Animal):\n",
        "  def make_sound (self):\n",
        "    return f\"{self.name} says Meow!\"\n",
        "class Cow(Animal):\n",
        "  def make_sound (self):\n",
        "    return f\"{self.name} says Moo!\"\n",
        "\n",
        "#create our objects\n",
        "dog = Dog (\"Fluffy\")\n",
        "cat = Cat (\"Kasongo\")\n",
        "cow = Cow (\"Lucky\")\n",
        "\n",
        "#Using Polymorphism\n",
        "\n",
        "animals= [dog,cat,cow]\n",
        "\n",
        "for animal in animals:\n",
        "    print (animal.make_sound())"
      ]
    },
    {
      "cell_type": "code",
      "source": [
        "#Base class\n",
        "class Animal:\n",
        "  def __init__ (self,name,breed):\n",
        "    self.name = name\n",
        "    self.breed = breed\n",
        "\n",
        "  def make_sound (self):\n",
        "    pass\n",
        "  def display_info (self):\n",
        "    return f\"Name: {self.name}, Breed: {self.breed}\"\n",
        "\n",
        "#subclass with different behaviours\n",
        "class Dog(Animal):\n",
        "  def make_sound(self):\n",
        "    return f\"{self.name}, the {self.breed}, says Woof!\"\n",
        "\n",
        "class Cat(Animal):\n",
        "  def make_sound (self):\n",
        "    return f\"{self.name}, the {self.breed}, says Meow!\"\n",
        "class Cow(Animal):\n",
        "  def make_sound (self):\n",
        "    return f\"{self.name}, the {self.breed}, says Moo!\"\n",
        "\n",
        "#create our objects\n",
        "dog = Dog (\"Fluffy\", \"Spinx\")\n",
        "cat = Cat (\"Kasongo\", \"Bombay\")\n",
        "cow = Cow (\"Lucky\", \"Friesian\")\n",
        "\n",
        "#Using Polymorphism\n",
        "\n",
        "animals= [dog,cat,cow]\n",
        "\n",
        "for animal in animals:\n",
        "    print (animal.make_sound())\n",
        "    print (animal.display_info())"
      ],
      "metadata": {
        "colab": {
          "base_uri": "https://localhost:8080/"
        },
        "id": "ujg156Gd9KT9",
        "outputId": "34a5b9d3-75c5-477f-d7b2-9fc44a92e978"
      },
      "execution_count": null,
      "outputs": [
        {
          "output_type": "stream",
          "name": "stdout",
          "text": [
            "Fluffy, the Spinx, says Woof!\n",
            "Name: Fluffy, Breed: Spinx\n",
            "Kasongo, the Bombay, says Meow!\n",
            "Name: Kasongo, Breed: Bombay\n",
            "Lucky, the Friesian, says Moo!\n",
            "Name: Lucky, Breed: Friesian\n"
          ]
        }
      ]
    },
    {
      "cell_type": "code",
      "source": [
        "#Using normal functions:\n",
        "\n",
        "def Create_animal (name, breed, sound):\n",
        "  return {\"name\" : name, \"breed\": breed, \"sound\": sound}\n",
        "def Make_sound (animal):\n",
        "  return f\"{animal['name']} the {animal['breed']} says {animal['sound']}!\"\n",
        "def Display_info (animal):\n",
        "  return f\"Name: {animal['name']}, Breed: {animal['breed']}\"\n",
        "\n",
        "dog = Create_animal (\"Fluffy\", \"Spitz\", \"Woof!\")\n",
        "cat = Create_animal (\"Kasongo\", \"Bombay\", \"Meow!\")\n",
        "cow = Create_animal (\"Lucky\", \"Friesian\", \"Moo!\")\n",
        "\n",
        "#list of animals\n",
        "animals = [dog, cat, cow]\n",
        "\n",
        "for animal in animals:\n",
        "  print (Make_sound(animal))\n",
        "  print(Display_info(animal))"
      ],
      "metadata": {
        "colab": {
          "base_uri": "https://localhost:8080/"
        },
        "id": "c6V1t_ksJPnu",
        "outputId": "7aa693c1-088f-4894-e4a5-9d6634b6f209"
      },
      "execution_count": null,
      "outputs": [
        {
          "output_type": "stream",
          "name": "stdout",
          "text": [
            "Fluffy the Spitz says Woof!!\n",
            "Name: Fluffy, Breed: Spitz\n",
            "Kasongo the Bombay says Meow!!\n",
            "Name: Kasongo, Breed: Bombay\n",
            "Lucky the Friesian says Moo!!\n",
            "Name: Lucky, Breed: Friesian\n"
          ]
        }
      ]
    },
    {
      "cell_type": "code",
      "source": [
        "# Library Management System\n",
        "# Problem Statement:\n",
        "# You are building a Library Management System using OOP. The system should allow adding books, borrowing books, and returning books.\n",
        "# Requirements:\n",
        "# Create a Book class with the following attributes:\n",
        "\n",
        "\n",
        "# title (string)\n",
        "# author (string)\n",
        "# isbn (string - unique identifier)\n",
        "# available (boolean - initially True)\n",
        "# Implement the following methods inside the Book class:\n",
        "\n",
        "\n",
        "# borrow_book(): Changes available to False if the book is available.\n",
        "# return_book(): Changes available back to True.\n",
        "# get_info(): Returns book details (title, author, and availability status).\n",
        "# Create a Library class that will:\n",
        "\n",
        "\n",
        "# Store a list of Book objects.\n",
        "# Have a method add_book(book): Adds a book to the library.\n",
        "# Have a method list_books(): Displays all books with their availability.\n",
        "\n"
      ],
      "metadata": {
        "id": "hzWVVtlHdzPj"
      },
      "execution_count": null,
      "outputs": []
    },
    {
      "cell_type": "code",
      "source": [
        "class Book:\n",
        "    def __init__(self, title, author, isbn):\n",
        "        self.title = title\n",
        "        self.author = author\n",
        "        self.isbn = isbn\n",
        "        self.available = True\n",
        "\n",
        "    def borrow_book(self):\n",
        "        if self.available:\n",
        "            self.available = False\n",
        "            return f'You have borrowed \"{self.title}\"'\n",
        "        else:\n",
        "            return f'Sorry, \"{self.title}\" is currently unavailable.'\n",
        "\n",
        "    def return_book(self):\n",
        "        self.available = True\n",
        "        return f'You have returned \"{self.title}\"'\n",
        "\n",
        "    def get_info(self):\n",
        "        status = \"Available\" if self.available else \"Not Available\"\n",
        "        return f'Title: {self.title}, Author: {self.author}, ISBN: {self.isbn}, Status: {status}'\n",
        "\n",
        "class Library:\n",
        "    def __init__(self):\n",
        "        self.books = []\n",
        "\n",
        "    def add_book(self, book):\n",
        "        self.books.append(book)\n",
        "        return f'Book \"{book.title}\" added to the library.'\n",
        "\n",
        "    def list_books(self):\n",
        "        if not self.books:\n",
        "            return \"No books in the library.\"\n",
        "        return \"\\n\".join(book.get_info() for book in self.books)\n",
        "\n",
        "# Example Usage:\n",
        "library = Library()\n",
        "book1 = Book(\"The Great Gatsby\", \"F. Scott Fitzgerald\", \"1234567890\")\n",
        "book2 = Book(\"To Kill a Mockingbird\", \"Harper Lee\", \"0987654321\")\n",
        "\n",
        "print(library.add_book(book1))\n",
        "print(library.add_book(book2))\n",
        "print(library.list_books())\n",
        "# print(book1.borrow_book())\n",
        "# print(library.list_books())\n",
        "# print(book1.return_book())\n",
        "# print(library.list_books())\n"
      ],
      "metadata": {
        "colab": {
          "base_uri": "https://localhost:8080/"
        },
        "id": "0Fe0OjS8dJHR",
        "outputId": "4bf7a2ce-168e-4ef4-a761-ab22979ab965"
      },
      "execution_count": null,
      "outputs": [
        {
          "output_type": "stream",
          "name": "stdout",
          "text": [
            "Book \"The Great Gatsby\" added to the library.\n",
            "Book \"To Kill a Mockingbird\" added to the library.\n",
            "Title: The Great Gatsby, Author: F. Scott Fitzgerald, ISBN: 1234567890, Status: Available\n",
            "Title: To Kill a Mockingbird, Author: Harper Lee, ISBN: 0987654321, Status: Available\n"
          ]
        }
      ]
    },
    {
      "cell_type": "code",
      "source": [
        "class Book\n",
        "\n",
        " def __init__(self,title, author,isbn):\n",
        "    self.title = title\n",
        "    self.author = author\n",
        "    self.isbn = isbn\n",
        "    self.available = True\n"
      ],
      "metadata": {
        "id": "wdfxyjRmR8Zd"
      },
      "execution_count": null,
      "outputs": []
    }
  ]
}