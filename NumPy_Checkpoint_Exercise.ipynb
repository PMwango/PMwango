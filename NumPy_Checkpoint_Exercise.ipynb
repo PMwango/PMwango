{
  "nbformat": 4,
  "nbformat_minor": 0,
  "metadata": {
    "colab": {
      "provenance": [],
      "authorship_tag": "ABX9TyM5T1BuNZJam5EqWZOAoXiI",
      "include_colab_link": true
    },
    "kernelspec": {
      "name": "python3",
      "display_name": "Python 3"
    },
    "language_info": {
      "name": "python"
    }
  },
  "cells": [
    {
      "cell_type": "markdown",
      "metadata": {
        "id": "view-in-github",
        "colab_type": "text"
      },
      "source": [
        "<a href=\"https://colab.research.google.com/github/PMwango/PMwango/blob/main/NumPy_Checkpoint_Exercise.ipynb\" target=\"_parent\"><img src=\"https://colab.research.google.com/assets/colab-badge.svg\" alt=\"Open In Colab\"/></a>"
      ]
    },
    {
      "cell_type": "code",
      "execution_count": 1,
      "metadata": {
        "id": "QjN9yl2AgBMP"
      },
      "outputs": [],
      "source": [
        "import numpy as np"
      ]
    },
    {
      "cell_type": "code",
      "source": [
        "grades = np.array ([85, 90, 88, 92, 95, 80, 75, 98, 89, 83])"
      ],
      "metadata": {
        "id": "1AtsSxprgSFr"
      },
      "execution_count": 2,
      "outputs": []
    },
    {
      "cell_type": "code",
      "source": [
        "#Use numpy functions to calculate the mean, median, and standard deviation of the grades.\n",
        "mean_grade = np.mean(grades)\n",
        "median_grade = np.median(grades)\n",
        "std_grade = np.std(grades)\n",
        "\n",
        "print(\"Mean Grade\", mean_grade)\n",
        "print(\"Median Grade\",  median_grade)\n",
        "print (\"Standard Deviation\" , std_grade)"
      ],
      "metadata": {
        "colab": {
          "base_uri": "https://localhost:8080/"
        },
        "id": "AOVgJe0wgbcW",
        "outputId": "bd43af5a-cc7e-4443-a57f-50846b37e594"
      },
      "execution_count": 9,
      "outputs": [
        {
          "output_type": "stream",
          "name": "stdout",
          "text": [
            "Mean Grade 87.5\n",
            "Median Grade 88.5\n",
            "Standard Deviation 6.591661399070799\n"
          ]
        }
      ]
    },
    {
      "cell_type": "code",
      "source": [
        "# Use numpy function to find the maximum and minimum of the grades.\n",
        "max_grade = np.max (grades)\n",
        "min_grade = np.min (grades)\n",
        "\n",
        "print (\"Maximum Grade\", max_grade)\n",
        "print (\"Minimum Grade\", min_grade)\n"
      ],
      "metadata": {
        "colab": {
          "base_uri": "https://localhost:8080/"
        },
        "id": "sRyxdjx7hngn",
        "outputId": "603b9f70-d6cc-451a-c496-58d8c45f0427"
      },
      "execution_count": 10,
      "outputs": [
        {
          "output_type": "stream",
          "name": "stdout",
          "text": [
            "Maximum Grade 98\n",
            "Minimum Grade 75\n"
          ]
        }
      ]
    },
    {
      "cell_type": "code",
      "source": [
        "# Use numpy function to sort the grades in ascending order.\n",
        "sorted_grades = np.sort (grades)\n",
        "print (\"Sorted Grades\", sorted_grades)"
      ],
      "metadata": {
        "colab": {
          "base_uri": "https://localhost:8080/"
        },
        "id": "ig6L7BeiiAkV",
        "outputId": "fff2f0e5-d0e2-4d3b-b921-36c673715e3b"
      },
      "execution_count": 11,
      "outputs": [
        {
          "output_type": "stream",
          "name": "stdout",
          "text": [
            "Sorted Grades [75 80 83 85 88 89 90 92 95 98]\n"
          ]
        }
      ]
    },
    {
      "cell_type": "code",
      "source": [
        "# Use numpy function to find the index of the highest grade in the array.\n",
        "grades = np.array ([85, 90, 88, 92, 95, 80, 75, 98, 89, 83])\n",
        "highest_grade_index = np.argmax (grades)\n",
        "print (\"Index of Highest Grade\", highest_grade_index)"
      ],
      "metadata": {
        "colab": {
          "base_uri": "https://localhost:8080/"
        },
        "id": "s783QACYiwLp",
        "outputId": "c97415d2-6be9-4bc3-cb74-43107de8e773"
      },
      "execution_count": 13,
      "outputs": [
        {
          "output_type": "stream",
          "name": "stdout",
          "text": [
            "Index of Highest Grade 7\n"
          ]
        }
      ]
    },
    {
      "cell_type": "code",
      "source": [
        "# Use numpy function to count the number of students who scored above 90.\n",
        "above_90 = np.sum (grades > 90)\n",
        "print (\"The number of students who scored above 90 is\", above_90)"
      ],
      "metadata": {
        "colab": {
          "base_uri": "https://localhost:8080/"
        },
        "id": "qN0cjCbQjsc8",
        "outputId": "72160ec1-e9ea-4232-8f6e-782200351556"
      },
      "execution_count": 15,
      "outputs": [
        {
          "output_type": "stream",
          "name": "stdout",
          "text": [
            "The number of students who scored above 90 is 3\n"
          ]
        }
      ]
    },
    {
      "cell_type": "code",
      "source": [
        "# Use numpy function to calculate the percentage of students who scored above 90.\n",
        "percentage_above_90 = np.mean (grades>90) * 100\n",
        "print (\"The percentage of students who scored above 90 is\", percentage_above_90)"
      ],
      "metadata": {
        "colab": {
          "base_uri": "https://localhost:8080/"
        },
        "id": "MwIJXzYmkKqs",
        "outputId": "d71acfab-7e77-42dd-b0b9-27de3d21ad29"
      },
      "execution_count": 20,
      "outputs": [
        {
          "output_type": "stream",
          "name": "stdout",
          "text": [
            "The percentage of students who scored above 90 is 30.0\n"
          ]
        }
      ]
    },
    {
      "cell_type": "code",
      "source": [
        "# Use numpy function to calculate the percentage of students who scored below 75.\n",
        "percentage_below_75 = np.mean(grades < 75) * 100\n",
        "print (\"The percentage of students who scored below 75 is\", percentage_below_75)"
      ],
      "metadata": {
        "colab": {
          "base_uri": "https://localhost:8080/"
        },
        "id": "1U7nUY4akjLz",
        "outputId": "88e31c67-d60e-4f00-8220-77dbdffcf326"
      },
      "execution_count": 22,
      "outputs": [
        {
          "output_type": "stream",
          "name": "stdout",
          "text": [
            "The percentage of students who scored below 75 is 0.0\n"
          ]
        }
      ]
    },
    {
      "cell_type": "code",
      "source": [
        "# Use numpy function to extract all the grades above 90 and put them in a new array called \"high_performers\".\n",
        "high_performers = grades[grades > 90]\n",
        "print (high_performers)\n"
      ],
      "metadata": {
        "colab": {
          "base_uri": "https://localhost:8080/"
        },
        "id": "08-ymXJplGQ9",
        "outputId": "6e9f7ea0-3d30-4355-db52-a246a3da906c"
      },
      "execution_count": 30,
      "outputs": [
        {
          "output_type": "stream",
          "name": "stdout",
          "text": [
            "[92 95 98]\n"
          ]
        }
      ]
    },
    {
      "cell_type": "code",
      "source": [
        "# Create a new array called \"passing_grades\" that contains all the grades above 75.\n",
        "passing_grades = grades [grades > 75]\n",
        "print (passing_grades)"
      ],
      "metadata": {
        "colab": {
          "base_uri": "https://localhost:8080/"
        },
        "id": "Ar37Sw8dms6f",
        "outputId": "5ad4b3e2-cea0-44cf-b727-9b4c962aeda6"
      },
      "execution_count": 29,
      "outputs": [
        {
          "output_type": "stream",
          "name": "stdout",
          "text": [
            "[85 90 88 92 95 80 98 89 83]\n"
          ]
        }
      ]
    }
  ]
}