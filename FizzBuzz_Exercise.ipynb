{
  "nbformat": 4,
  "nbformat_minor": 0,
  "metadata": {
    "colab": {
      "provenance": [],
      "authorship_tag": "ABX9TyPFx0DMm8JosPRY94craCXt",
      "include_colab_link": true
    },
    "kernelspec": {
      "name": "python3",
      "display_name": "Python 3"
    },
    "language_info": {
      "name": "python"
    }
  },
  "cells": [
    {
      "cell_type": "markdown",
      "metadata": {
        "id": "view-in-github",
        "colab_type": "text"
      },
      "source": [
        "<a href=\"https://colab.research.google.com/github/PMwango/PMwango/blob/main/FizzBuzz_Exercise.ipynb\" target=\"_parent\"><img src=\"https://colab.research.google.com/assets/colab-badge.svg\" alt=\"Open In Colab\"/></a>"
      ]
    },
    {
      "cell_type": "code",
      "execution_count": 15,
      "metadata": {
        "colab": {
          "base_uri": "https://localhost:8080/"
        },
        "id": "8glWWfLJBQLM",
        "outputId": "58fca0a5-cd61-4c15-c606-4f265fa14d7a"
      },
      "outputs": [
        {
          "output_type": "stream",
          "name": "stdout",
          "text": [
            "1\n",
            "2\n",
            "Fizz\n",
            "4\n",
            "Buzz\n",
            "Fizz\n",
            "7\n",
            "8\n",
            "Fizz\n",
            "Buzz\n",
            "11\n",
            "Fizz\n",
            "13\n",
            "14\n",
            "FizzBuzz\n",
            "16\n",
            "17\n",
            "Fizz\n",
            "19\n",
            "Buzz\n",
            "Fizz\n",
            "22\n",
            "23\n",
            "Fizz\n",
            "Buzz\n",
            "26\n",
            "Fizz\n",
            "28\n",
            "29\n",
            "FizzBuzz\n",
            "31\n",
            "32\n",
            "Fizz\n",
            "34\n",
            "Buzz\n",
            "Fizz\n",
            "37\n",
            "38\n",
            "Fizz\n",
            "Buzz\n",
            "41\n",
            "Fizz\n",
            "43\n",
            "44\n",
            "FizzBuzz\n",
            "46\n",
            "47\n",
            "Fizz\n",
            "49\n",
            "Buzz\n"
          ]
        }
      ],
      "source": [
        "#Write a Python program that prints numbers from 1 to 50.\n",
        "#For multiples of 3, print \"Fizz\" instead of the number.\n",
        "#For multiples of 5, print \"Buzz\" instead of the number.\n",
        "#For numbers that are multiples of both 3 and 5, print \"FizzBuzz\" instead of the number.\n",
        "#Otherwise, print the number itself.\n",
        "\n",
        "for number in range (1,51):\n",
        "  if number % 3 ==0 and number % 5 == 0:\n",
        "     print (\"FizzBuzz\")\n",
        "  elif number % 3 == 0:\n",
        "     print (\"Fizz\")\n",
        "  elif number % 5 == 0:\n",
        "     print (\"Buzz\")\n",
        "  else:\n",
        "     print (number)\n"
      ]
    }
  ]
}