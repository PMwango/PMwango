{
  "nbformat": 4,
  "nbformat_minor": 0,
  "metadata": {
    "colab": {
      "provenance": [],
      "authorship_tag": "ABX9TyPo4MPxEuK7/bzI7jyjaX9+",
      "include_colab_link": true
    },
    "kernelspec": {
      "name": "python3",
      "display_name": "Python 3"
    },
    "language_info": {
      "name": "python"
    }
  },
  "cells": [
    {
      "cell_type": "markdown",
      "metadata": {
        "id": "view-in-github",
        "colab_type": "text"
      },
      "source": [
        "<a href=\"https://colab.research.google.com/github/PMwango/PMwango/blob/main/Python_Sets.ipynb\" target=\"_parent\"><img src=\"https://colab.research.google.com/assets/colab-badge.svg\" alt=\"Open In Colab\"/></a>"
      ]
    },
    {
      "cell_type": "code",
      "execution_count": null,
      "metadata": {
        "id": "hgxqcFkYQ54_"
      },
      "outputs": [],
      "source": [
        "#Sets in Python\n",
        "#A set is a collection of distinct items, which ensures that no duplicates are allowed within it."
      ]
    },
    {
      "cell_type": "code",
      "source": [
        "#Creating sets\n",
        "#To create a set in Python, place all elements within curly braces `{}`, each separated by a comma.\n",
        "#A set can contain various types of elements, such as integers, floats, tuples, and strings.\n",
        "#However, sets cannot include mutable items like lists, other sets, or dictionaries as elements.\n"
      ],
      "metadata": {
        "id": "yrMAYhNiJAGJ"
      },
      "execution_count": null,
      "outputs": []
    },
    {
      "cell_type": "code",
      "source": [
        "# create a set of integer type\n",
        "student_id = {112, 114, 116, 118, 115}\n",
        "print('Student ID:', student_id)\n",
        "\n",
        "# create a set of string type\n",
        "vowel_letters = {'a', 'e', 'i', 'o', 'u'}\n",
        "print('Vowel Letters:', vowel_letters)\n",
        "\n",
        "# create a set of mixed data types\n",
        "mixed_set = {'Hello', 101, -2, 'Bye'}\n",
        "print('Set of mixed data types:', mixed_set)\n",
        "\n",
        "#Output order may vary each time you run this code,\n",
        "#reflecting the unordered nature of sets."
      ],
      "metadata": {
        "colab": {
          "base_uri": "https://localhost:8080/"
        },
        "id": "uceBuI6IJNWt",
        "outputId": "09a1d77f-770a-4b4d-d8e0-975291affb5d"
      },
      "execution_count": 1,
      "outputs": [
        {
          "output_type": "stream",
          "name": "stdout",
          "text": [
            "Student ID: {112, 114, 115, 116, 118}\n",
            "Vowel Letters: {'u', 'a', 'e', 'i', 'o'}\n",
            "Set of mixed data types: {'Hello', 101, -2, 'Bye'}\n"
          ]
        }
      ]
    },
    {
      "cell_type": "code",
      "source": [
        "#A set cannot contain duplicates\n",
        "#In this case, they will not be included in the output\n",
        "\n",
        "numbers = {2, 4, 6, 6, 2, 8}\n",
        "print(numbers)   # {8, 2, 4, 6}"
      ],
      "metadata": {
        "colab": {
          "base_uri": "https://localhost:8080/"
        },
        "id": "fDpqDxBYKhtg",
        "outputId": "e8ea1eed-ff18-4b39-acd7-e377c634acbf"
      },
      "execution_count": 2,
      "outputs": [
        {
          "output_type": "stream",
          "name": "stdout",
          "text": [
            "{8, 2, 4, 6}\n"
          ]
        }
      ]
    },
    {
      "cell_type": "code",
      "source": [
        "#Sets are mutable, allowing the modification of their contents.\n",
        "#However, due to their unordered structure, indexing does not apply to sets.\n",
        "\n",
        "#Consequently, elements within a set cannot be accessed or modified using indexing or slicing,\n",
        "#as these operations are unsupported by the set data type.\n",
        "\n",
        "# Many of the operations that can be used\n",
        "# for Python’s other composite data types don’t make sense for sets.\n",
        "# For example, sets can’t be indexed or sliced.\n",
        "#Operations on sets: Union, Intersection, Difference, Symmetric difference\n"
      ],
      "metadata": {
        "id": "6fRoxKgDK6Dl"
      },
      "execution_count": null,
      "outputs": []
    },
    {
      "cell_type": "code",
      "source": [
        "#Adding elements to a set - using the add() method\n",
        "numbers = {21, 34, 54, 12}\n",
        "print('Initial Set:',numbers)\n",
        "# using add() method\n",
        "numbers.add(32)\n",
        "print('Updated Set:', numbers)\n",
        "numbers.add(25)\n",
        "print ('Final Set:', numbers)\n"
      ],
      "metadata": {
        "colab": {
          "base_uri": "https://localhost:8080/"
        },
        "id": "A_B2NZLMLGDc",
        "outputId": "9700bc68-eb51-4cca-c9ee-9f3c8ab8175b"
      },
      "execution_count": 5,
      "outputs": [
        {
          "output_type": "stream",
          "name": "stdout",
          "text": [
            "Initial Set: {34, 12, 21, 54}\n",
            "Updated Set: {32, 34, 12, 21, 54}\n",
            "Final Set: {32, 34, 12, 21, 54, 25}\n"
          ]
        }
      ]
    },
    {
      "cell_type": "code",
      "source": [
        "#Update python set - using the update() method\n",
        "#The update() method is used to update the set\n",
        "#with unique/distinct items of other collection types (lists, tuples, sets, etc).\n",
        "#For example:\n",
        "companies = {'Lacoste', 'Ralph Lauren'}\n",
        "tech_companies = ['Apple', 'Google', 'Microsoft']\n",
        "# using update() method\n",
        "companies.update(tech_companies)\n",
        "print(companies)\n",
        "# Output: {'Google', 'Apple', 'Microsoft', 'Lacoste', 'Ralph Lauren'}\n",
        "\n",
        "print(len(companies))\n",
        "print(\"Yves Rocher\" in companies)\n",
        "print(sorted(companies))\n",
        "print(max(companies))\n",
        "print(min(companies))\n",
        "print(any(companies))\n",
        "print(all(companies))\n"
      ],
      "metadata": {
        "colab": {
          "base_uri": "https://localhost:8080/"
        },
        "id": "7iFC5FG3LnhN",
        "outputId": "9f946434-6c0b-414d-c2ba-4896dd0d7dcf"
      },
      "execution_count": 20,
      "outputs": [
        {
          "output_type": "stream",
          "name": "stdout",
          "text": [
            "{'Microsoft', 'Apple', 'Ralph Lauren', 'Lacoste', 'Google'}\n",
            "5\n",
            "False\n",
            "['Apple', 'Google', 'Lacoste', 'Microsoft', 'Ralph Lauren']\n",
            "Ralph Lauren\n",
            "Apple\n",
            "True\n",
            "True\n"
          ]
        }
      ]
    },
    {
      "cell_type": "code",
      "source": [
        "# A set can be empty. However,Python interprets empty curly braces ({}) as an empty dictionary,\n",
        "# so the only way to define an empty set is with the set() function.\n",
        "# The len() function returns the number of elements in a set,\n",
        "# and the in and not in operators can be used to test for membership."
      ],
      "metadata": {
        "id": "mWkAmWQBP6Eb"
      },
      "execution_count": null,
      "outputs": []
    },
    {
      "cell_type": "code",
      "source": [
        "# Set Operations\n",
        "# Given two sets, x1 and x2, the union of x1 and x2\n",
        "# is a set consisting of all elements in either set.\n",
        "# no duplicates"
      ],
      "metadata": {
        "id": "W1lGoONORxGY"
      },
      "execution_count": null,
      "outputs": []
    },
    {
      "cell_type": "code",
      "source": [
        "#Exercise Instructions :\n",
        "# Create two sets: set1 = {1, 2, 3, 4, 5} and set2 = {4, 5, 6, 7, 8}.\n",
        "# Compute and print the union of set1 and set2.\n",
        "# Compute and print the intersection of set1 and set2.\n",
        "# Compute and print the difference between set1 and set2.\n",
        "# Compute and print the symmetric difference between set1 and set2."
      ],
      "metadata": {
        "id": "bd6Fe4TAN8UZ"
      },
      "execution_count": null,
      "outputs": []
    },
    {
      "cell_type": "code",
      "source": [
        "#Union\n",
        "set_1 = {1,2,3,4,5}\n",
        "set_2 = {4,5,6,7,8}\n",
        "\n",
        "print(set_1| set_2)       #using operator |\n",
        "print(set_1.union(set_2)) #using method union()\n"
      ],
      "metadata": {
        "colab": {
          "base_uri": "https://localhost:8080/"
        },
        "id": "Vzw3kPsCOBRI",
        "outputId": "02aaa550-de5f-4fd5-efe3-0ba187ada118"
      },
      "execution_count": 22,
      "outputs": [
        {
          "output_type": "stream",
          "name": "stdout",
          "text": [
            "{1, 2, 3, 4, 5, 6, 7, 8}\n",
            "{1, 2, 3, 4, 5, 6, 7, 8}\n"
          ]
        }
      ]
    },
    {
      "cell_type": "code",
      "source": [
        "# The way they are used in the examples above, the operator,| and method union()behave identically.\n",
        "# But there is a subtle difference between them.\n",
        "# When you use the | operator, both operands must be sets.\n",
        "# The .union() method, on the other hand, will take any iterable as an argument,\n",
        "# convert it to a set, and then perform the union."
      ],
      "metadata": {
        "id": "KQ__SZzhTgKk"
      },
      "execution_count": null,
      "outputs": []
    },
    {
      "cell_type": "code",
      "source": [
        "#Intersection - Returns the common elements in 2/more sets\n",
        "set_1 = {1,2,3,4,5}\n",
        "set_2 = {4,5,6,7,8}\n",
        "\n",
        "print (set_1&set_2)\n",
        "print (set_1.intersection(set_2))"
      ],
      "metadata": {
        "colab": {
          "base_uri": "https://localhost:8080/"
        },
        "id": "s7J9jxFYTuad",
        "outputId": "d4f11425-95f0-4e7e-d6dc-4e90acb02eb7"
      },
      "execution_count": 24,
      "outputs": [
        {
          "output_type": "stream",
          "name": "stdout",
          "text": [
            "{4, 5}\n",
            "{4, 5}\n"
          ]
        }
      ]
    },
    {
      "cell_type": "code",
      "source": [
        "#Difference - Returns all elements in set_1 that are not in set_2\n",
        "set_1 = {1,2,3,4,5}\n",
        "set_2 = {4,5,6,7,8}\n",
        "\n",
        "print(set_1 - set_2)\n",
        "print(set_1.difference(set_2))"
      ],
      "metadata": {
        "colab": {
          "base_uri": "https://localhost:8080/"
        },
        "id": "Cu8wuKDIVHHq",
        "outputId": "e75e977b-79cc-4016-a2e8-24b24b658375"
      },
      "execution_count": 25,
      "outputs": [
        {
          "output_type": "stream",
          "name": "stdout",
          "text": [
            "{1, 2, 3}\n",
            "{1, 2, 3}\n"
          ]
        }
      ]
    },
    {
      "cell_type": "code",
      "source": [
        "#Symmetric difference- Returns the set of all elements in either set_1 or set_2, but not both:\n",
        "#the method takes only one argument\n",
        "#but the operator ^ can take multiple arguments/sets\n",
        "set_1 = {1,2,3,4,5}\n",
        "set_2 = {4,5,6,7,8}\n",
        "\n",
        "print (set_1^set_2)\n",
        "print(set_1.symmetric_difference(set_2))"
      ],
      "metadata": {
        "colab": {
          "base_uri": "https://localhost:8080/"
        },
        "id": "BDni1VBbVylP",
        "outputId": "53bc3cdc-d7dd-47d5-81ce-0d7af5198154"
      },
      "execution_count": 26,
      "outputs": [
        {
          "output_type": "stream",
          "name": "stdout",
          "text": [
            "{1, 2, 3, 6, 7, 8}\n",
            "{1, 2, 3, 6, 7, 8}\n"
          ]
        }
      ]
    },
    {
      "cell_type": "code",
      "source": [
        "# isdidjoint() method returns True if the sets have NO elements in common.\n",
        "#Other methods:\n",
        "#issubset() - a set x1 is considered a subset of another set x2 if every element of x1 is in x2.\n",
        "#issuperset() - a set x1 is considered a superset of another set x2 if x1 contains every element of x2.\n",
        "\n",
        "set_1 = {1,2,3,4,5}\n",
        "set_2 = {4,5,6,7,8}\n",
        "\n",
        "print(set_1.isdisjoint(set_2))\n",
        "print(set_1.issubset(set_2))\n",
        "print(set_1.issuperset(set_2))\n"
      ],
      "metadata": {
        "colab": {
          "base_uri": "https://localhost:8080/"
        },
        "id": "3iAtfurLXcvH",
        "outputId": "fce7dcc1-f9f4-4ddc-f5c3-38c24b3f2770"
      },
      "execution_count": 31,
      "outputs": [
        {
          "output_type": "stream",
          "name": "stdout",
          "text": [
            "False\n",
            "False\n",
            "False\n"
          ]
        }
      ]
    }
  ]
}