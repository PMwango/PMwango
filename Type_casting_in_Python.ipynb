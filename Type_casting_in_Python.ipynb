{
  "nbformat": 4,
  "nbformat_minor": 0,
  "metadata": {
    "colab": {
      "provenance": [],
      "authorship_tag": "ABX9TyMgo6tNWobVvA7zuPpiZbLa",
      "include_colab_link": true
    },
    "kernelspec": {
      "name": "python3",
      "display_name": "Python 3"
    },
    "language_info": {
      "name": "python"
    }
  },
  "cells": [
    {
      "cell_type": "markdown",
      "metadata": {
        "id": "view-in-github",
        "colab_type": "text"
      },
      "source": [
        "<a href=\"https://colab.research.google.com/github/PMwango/PMwango/blob/main/Type_casting_in_Python.ipynb\" target=\"_parent\"><img src=\"https://colab.research.google.com/assets/colab-badge.svg\" alt=\"Open In Colab\"/></a>"
      ]
    },
    {
      "cell_type": "code",
      "execution_count": null,
      "metadata": {
        "id": "m_Bc_zHiLxD3"
      },
      "outputs": [],
      "source": [
        "#Type casting - the process of converting a variable from one data type to another.\n",
        "#               string(), int(), float(), bool()\n",
        "#Useful in handling user input which is usually a string.\n",
        "#You can get the data type of a value using the type function.\n",
        "#type(variable) OR print (type(variable))"
      ]
    },
    {
      "cell_type": "code",
      "source": [
        "name = \"Tina Turner\"\n",
        "age = 25\n",
        "gpa = 3.2\n",
        "is_student = True\n",
        "\n",
        "type (name)\n",
        "print (type(name))\n",
        "print (type(age))\n",
        "print (type(gpa))\n",
        "print (type(is_student))"
      ],
      "metadata": {
        "colab": {
          "base_uri": "https://localhost:8080/"
        },
        "id": "2cr85ZVoLyxn",
        "outputId": "ee6ac823-de48-4109-dde3-9d5923ee9ca0"
      },
      "execution_count": 6,
      "outputs": [
        {
          "output_type": "stream",
          "name": "stdout",
          "text": [
            "<class 'str'>\n",
            "<class 'int'>\n",
            "<class 'float'>\n",
            "<class 'bool'>\n"
          ]
        }
      ]
    },
    {
      "cell_type": "code",
      "source": [
        "#Example - Converting gpa to integer\n",
        "#Reassign the gpa using int data type to type cast\n",
        "#The decimal portion is truncated\n",
        "\n",
        "gpa = int(gpa)\n",
        "print (gpa)"
      ],
      "metadata": {
        "colab": {
          "base_uri": "https://localhost:8080/"
        },
        "id": "H38k-aTPM_y7",
        "outputId": "b0fe8d31-ecf0-47ef-c9ce-cbb021d8127c"
      },
      "execution_count": 7,
      "outputs": [
        {
          "output_type": "stream",
          "name": "stdout",
          "text": [
            "3\n"
          ]
        }
      ]
    },
    {
      "cell_type": "code",
      "source": [
        "#Converting age to float\n",
        "\n",
        "age = float(age)\n",
        "print (age)"
      ],
      "metadata": {
        "colab": {
          "base_uri": "https://localhost:8080/"
        },
        "id": "18VJzPghN9Ka",
        "outputId": "3bd6f14e-2895-4d32-fb11-de849c73f52a"
      },
      "execution_count": 10,
      "outputs": [
        {
          "output_type": "stream",
          "name": "stdout",
          "text": [
            "25.0\n"
          ]
        }
      ]
    },
    {
      "cell_type": "code",
      "source": [
        "#Converting age to string\n",
        "age = 25\n",
        "age = str(age)\n",
        "print (age)\n",
        "type(age)"
      ],
      "metadata": {
        "colab": {
          "base_uri": "https://localhost:8080/"
        },
        "id": "O5LM0wW7Odx9",
        "outputId": "912d1089-55d2-4e2d-e4e1-3389cb2d6f2a"
      },
      "execution_count": 15,
      "outputs": [
        {
          "output_type": "stream",
          "name": "stdout",
          "text": [
            "25\n"
          ]
        },
        {
          "output_type": "execute_result",
          "data": {
            "text/plain": [
              "str"
            ]
          },
          "metadata": {},
          "execution_count": 15
        }
      ]
    },
    {
      "cell_type": "code",
      "source": [
        "#Converting name to boolean\n",
        "\n",
        "name = bool(name)\n",
        "print (name)"
      ],
      "metadata": {
        "colab": {
          "base_uri": "https://localhost:8080/"
        },
        "id": "QHKqJYPxPIeU",
        "outputId": "a9181f22-6069-4cb7-bc6a-9ce39b2dc069"
      },
      "execution_count": 17,
      "outputs": [
        {
          "output_type": "stream",
          "name": "stdout",
          "text": [
            "True\n"
          ]
        }
      ]
    }
  ]
}