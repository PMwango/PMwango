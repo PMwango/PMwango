{
  "nbformat": 4,
  "nbformat_minor": 0,
  "metadata": {
    "colab": {
      "provenance": [],
      "authorship_tag": "ABX9TyMUzK71tirhBAy9N1W913fx",
      "include_colab_link": true
    },
    "kernelspec": {
      "name": "python3",
      "display_name": "Python 3"
    },
    "language_info": {
      "name": "python"
    }
  },
  "cells": [
    {
      "cell_type": "markdown",
      "metadata": {
        "id": "view-in-github",
        "colab_type": "text"
      },
      "source": [
        "<a href=\"https://colab.research.google.com/github/PMwango/PMwango/blob/main/Python_Tuples.ipynb\" target=\"_parent\"><img src=\"https://colab.research.google.com/assets/colab-badge.svg\" alt=\"Open In Colab\"/></a>"
      ]
    },
    {
      "cell_type": "code",
      "execution_count": null,
      "metadata": {
        "id": "52Q6TbPJeeMB"
      },
      "outputs": [],
      "source": [
        "#Tuple - a collection similar to a list but with a key distinction\n",
        "# tuples are immutable, meaning once they are created,\n",
        "# their elements cannot be changed or replaced.\n",
        "\n",
        "#Characteristics of tuples\n",
        "# Ordered - They maintain the order of elements.\n",
        "# Immutable - They cannot be changed after creation.\n",
        "# Allow duplicates - They can contain duplicate values.\n",
        "#Accessible through indexing"
      ]
    },
    {
      "cell_type": "code",
      "source": [
        "#Creating tuples in Python - enclose elements within ()\n",
        "\n",
        "numbers = (1, 2, -5)\n",
        "print(numbers)\n",
        "# Output: (1, 2, -5)\n",
        "\n",
        "languages = ('Python', 'Swift', 'C++')\n",
        "# access the first item\n",
        "print(languages[0])   # Python\n",
        "# access the third item\n",
        "print(languages[2])   # C++\n",
        "print(\"Languages:\", len(languages))\n",
        "\n",
        "cars = ('BMW', 'Tesla', 'Ford', 'Toyota')\n",
        "print('Total Items:', len(cars))\n",
        "# Output: Total Items: 4\n"
      ],
      "metadata": {
        "colab": {
          "base_uri": "https://localhost:8080/"
        },
        "id": "WhbnNJR_ezOv",
        "outputId": "e45c580a-bffc-482d-f841-a177df54316c"
      },
      "execution_count": 9,
      "outputs": [
        {
          "output_type": "stream",
          "name": "stdout",
          "text": [
            "(1, 2, -5)\n",
            "Python\n",
            "C++\n",
            "Languages: 3\n",
            "Total Items: 4\n"
          ]
        }
      ]
    },
    {
      "cell_type": "code",
      "source": [
        "fruits = ('apple','banana','orange')\n",
        "# iterate through the tuple\n",
        "for fruit in fruits:\n",
        "    print(fruit)"
      ],
      "metadata": {
        "colab": {
          "base_uri": "https://localhost:8080/"
        },
        "id": "Uq48ohYNf9yo",
        "outputId": "e9bd3035-90f0-4287-af75-a540a90fca3e"
      },
      "execution_count": 8,
      "outputs": [
        {
          "output_type": "stream",
          "name": "stdout",
          "text": [
            "apple\n",
            "banana\n",
            "orange\n"
          ]
        }
      ]
    },
    {
      "cell_type": "code",
      "source": [
        "#Exercise\n",
        "# Write a Python script to modify a tuple by adding an element at the end of it.\n",
        "\n",
        "# For inputs with tuple (1, 2, 3) and element 4, the return value should be (1, 2, 3, 4).\n",
        "# Hint: You need to first convert the tuple to another data type, such as a list.\n"
      ],
      "metadata": {
        "id": "SmS-cTFMgcHd"
      },
      "execution_count": null,
      "outputs": []
    },
    {
      "cell_type": "code",
      "source": [
        "values = (1,2,3,4)\n",
        "values = list(values)\n",
        "print (type(values))\n",
        "values.append(4)\n",
        "print(values)"
      ],
      "metadata": {
        "colab": {
          "base_uri": "https://localhost:8080/"
        },
        "id": "SkLCqcNFgn1S",
        "outputId": "99ac4e9f-a505-4e23-9168-35b242aa8c9d"
      },
      "execution_count": 13,
      "outputs": [
        {
          "output_type": "stream",
          "name": "stdout",
          "text": [
            "<class 'list'>\n",
            "[1, 2, 3, 4, 4]\n"
          ]
        }
      ]
    },
    {
      "cell_type": "code",
      "source": [
        "#Packing and Unpacking\n",
        "# Python tuples follow the idea of packing and unpacking values i.e.\n",
        "# while creating a tuple parentheses ( ) are optional and\n",
        "# just providing a comma-separated value will create a tuple as well (also known as packing).\n",
        "# Similarly, when trying to access each value in the tuple,\n",
        "# the values can be assigned to individual variables (also called unpacking)."
      ],
      "metadata": {
        "id": "3W4kD80NjG2h"
      },
      "execution_count": null,
      "outputs": []
    },
    {
      "cell_type": "code",
      "source": [
        "student = 'John Doe', 27, 'Data Science', 1234567890\n",
        "\n",
        "name, age, course, number = student\n",
        "print (name)\n",
        "print(age)\n",
        "print(course)\n",
        "print(number)"
      ],
      "metadata": {
        "colab": {
          "base_uri": "https://localhost:8080/"
        },
        "id": "AdNLdmhTiSc6",
        "outputId": "d2386ac5-df07-41c9-b062-b87f0488415c"
      },
      "execution_count": 17,
      "outputs": [
        {
          "output_type": "stream",
          "name": "stdout",
          "text": [
            "John Doe\n",
            "27\n",
            "Data Science\n",
            "1234567890\n"
          ]
        }
      ]
    },
    {
      "cell_type": "code",
      "source": [
        "# Python tuple with zero item can be created by using empty parentheses ()\n",
        "# Python tuple with exactly one item can be created by ending the tuple item with a comma ,"
      ],
      "metadata": {
        "id": "zGkEMP0fjzoA"
      },
      "execution_count": null,
      "outputs": []
    }
  ]
}