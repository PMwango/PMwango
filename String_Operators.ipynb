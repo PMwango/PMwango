{
  "nbformat": 4,
  "nbformat_minor": 0,
  "metadata": {
    "colab": {
      "provenance": [],
      "authorship_tag": "ABX9TyOtTtd9T2KVjrYg46AU/TF/",
      "include_colab_link": true
    },
    "kernelspec": {
      "name": "python3",
      "display_name": "Python 3"
    },
    "language_info": {
      "name": "python"
    }
  },
  "cells": [
    {
      "cell_type": "markdown",
      "metadata": {
        "id": "view-in-github",
        "colab_type": "text"
      },
      "source": [
        "<a href=\"https://colab.research.google.com/github/PMwango/PMwango/blob/main/String_Operators.ipynb\" target=\"_parent\"><img src=\"https://colab.research.google.com/assets/colab-badge.svg\" alt=\"Open In Colab\"/></a>"
      ]
    },
    {
      "cell_type": "code",
      "execution_count": 1,
      "metadata": {
        "colab": {
          "base_uri": "https://localhost:8080/"
        },
        "id": "3jRoXggZNPUp",
        "outputId": "aba5427c-efb2-4936-8850-7cbe530476ba"
      },
      "outputs": [
        {
          "output_type": "stream",
          "name": "stdout",
          "text": [
            "Welcome Home\n"
          ]
        }
      ],
      "source": [
        "#Concatenation\n",
        "s1 = \"Welcome\"\n",
        "s2 = \"Home\"\n",
        "print (s1 + \" \"+ s2)"
      ]
    },
    {
      "cell_type": "code",
      "source": [
        "\n",
        "#Repetition\n",
        "s3 = \"name\"\n",
        "print (s3 * 3)"
      ],
      "metadata": {
        "colab": {
          "base_uri": "https://localhost:8080/"
        },
        "id": "zGcjFt6rNm1o",
        "outputId": "0afca121-0073-4424-b697-7ab305d90830"
      },
      "execution_count": 5,
      "outputs": [
        {
          "output_type": "stream",
          "name": "stdout",
          "text": [
            "namenamename\n"
          ]
        }
      ]
    },
    {
      "cell_type": "code",
      "source": [
        "#Membership (in, not in)\n",
        "print (\"an\" in \"animal\")\n",
        "print (\"an\" not in \"animal\")\n",
        "print (\"ai\" in \"animal\")"
      ],
      "metadata": {
        "colab": {
          "base_uri": "https://localhost:8080/"
        },
        "id": "xcHJvhrpN6zO",
        "outputId": "4fa44b39-087a-4159-9799-1620c5364e4c"
      },
      "execution_count": 7,
      "outputs": [
        {
          "output_type": "stream",
          "name": "stdout",
          "text": [
            "True\n",
            "False\n",
            "False\n"
          ]
        }
      ]
    },
    {
      "cell_type": "code",
      "source": [
        "#Indexing\n",
        "p = \"indexing\"\n",
        "print (p[-1])"
      ],
      "metadata": {
        "colab": {
          "base_uri": "https://localhost:8080/"
        },
        "id": "afVW0Rm8OS0Q",
        "outputId": "02657135-f183-44f8-ef8b-6da81e6c7263"
      },
      "execution_count": 8,
      "outputs": [
        {
          "output_type": "stream",
          "name": "stdout",
          "text": [
            "g\n"
          ]
        }
      ]
    },
    {
      "cell_type": "code",
      "source": [
        "#Slicing\n",
        "x = \"Kasongo\"\n",
        "print (x[2:5])"
      ],
      "metadata": {
        "colab": {
          "base_uri": "https://localhost:8080/"
        },
        "id": "e404ByKnOncQ",
        "outputId": "7ab1c480-51ab-42cb-f79b-8754223a728f"
      },
      "execution_count": 9,
      "outputs": [
        {
          "output_type": "stream",
          "name": "stdout",
          "text": [
            "son\n"
          ]
        }
      ]
    },
    {
      "cell_type": "code",
      "source": [
        "print (2>3)"
      ],
      "metadata": {
        "colab": {
          "base_uri": "https://localhost:8080/"
        },
        "id": "zBOdAbbVPBw_",
        "outputId": "94b10139-d364-4f95-eb6c-6ac7939bb511"
      },
      "execution_count": 10,
      "outputs": [
        {
          "output_type": "stream",
          "name": "stdout",
          "text": [
            "False\n"
          ]
        }
      ]
    }
  ]
}