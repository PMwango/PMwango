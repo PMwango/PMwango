{
  "nbformat": 4,
  "nbformat_minor": 0,
  "metadata": {
    "colab": {
      "provenance": [],
      "authorship_tag": "ABX9TyMsjEoZsaaJimj88IoaOGPk",
      "include_colab_link": true
    },
    "kernelspec": {
      "name": "python3",
      "display_name": "Python 3"
    },
    "language_info": {
      "name": "python"
    }
  },
  "cells": [
    {
      "cell_type": "markdown",
      "metadata": {
        "id": "view-in-github",
        "colab_type": "text"
      },
      "source": [
        "<a href=\"https://colab.research.google.com/github/PMwango/PMwango/blob/main/Python_Dictionaries.ipynb\" target=\"_parent\"><img src=\"https://colab.research.google.com/assets/colab-badge.svg\" alt=\"Open In Colab\"/></a>"
      ]
    },
    {
      "cell_type": "code",
      "source": [
        "#A collection of items\n",
        "#Has a key- value pair\n",
        "#Mutable, Ordered, Has indexing, No duplicates\n",
        "#Dictionary keys must be immutable"
      ],
      "metadata": {
        "id": "mHTwem1gFqXk"
      },
      "execution_count": null,
      "outputs": []
    },
    {
      "cell_type": "code",
      "execution_count": 1,
      "metadata": {
        "colab": {
          "base_uri": "https://localhost:8080/"
        },
        "id": "GnF_pZmaFiiU",
        "outputId": "35f0575d-7294-4445-f169-a1f137fd9868"
      },
      "outputs": [
        {
          "output_type": "stream",
          "name": "stdout",
          "text": [
            "{'Germany': 'Berlin', 'Canada': 'Ottawa', 'England': 'London'}\n"
          ]
        }
      ],
      "source": [
        "# creating a dictionary\n",
        "country_capitals = {\n",
        "  \"Germany\": \"Berlin\",\n",
        "  \"Canada\": \"Ottawa\",\n",
        "  \"England\": \"London\"\n",
        "}\n",
        "# printing the dictionary\n",
        "print(country_capitals)"
      ]
    },
    {
      "cell_type": "code",
      "source": [
        "#The country_capitals dictionary has three elements (key-value pairs),\n",
        "# where 'Germany' is the key and 'Berlin' is the value assigned to it and so on."
      ],
      "metadata": {
        "id": "26AyDGMKGd7p"
      },
      "execution_count": null,
      "outputs": []
    },
    {
      "cell_type": "code",
      "source": [
        "#Accessing dictionary items\n",
        "#We can access the value of a dictionary item by placing the key inside square brackets.\n",
        "#Note: We can also use the get() method to access dictionary items.\n",
        "\n",
        "country_capitals = {\n",
        "  \"Germany\": \"Berlin\",\n",
        "  \"Canada\": \"Ottawa\",\n",
        "  \"England\": \"London\"\n",
        "}\n",
        "\n",
        "# access the value of keys\n",
        "print(country_capitals[\"Germany\"])    # Output: Berlin\n",
        "print(country_capitals[\"England\"])    # Output: London\n",
        "# country_capitals.Get[\"England\"]??"
      ],
      "metadata": {
        "colab": {
          "base_uri": "https://localhost:8080/"
        },
        "id": "FCIx7jo4GhoR",
        "outputId": "691f2a92-2655-46b9-982c-daab1a06dd13"
      },
      "execution_count": 40,
      "outputs": [
        {
          "output_type": "stream",
          "name": "stdout",
          "text": [
            "Berlin\n",
            "London\n"
          ]
        }
      ]
    },
    {
      "cell_type": "code",
      "source": [
        "#Adding items to a dictionary\n",
        "country_capitals = {\n",
        "  \"Germany\": \"Berlin\",\n",
        "  \"Canada\": \"Ottawa\",\n",
        "}\n",
        "# add an item with \"Italy\" as key and \"Rome\" as its value\n",
        "country_capitals[\"Italy\"] = \"Rome\"\n",
        "print(country_capitals)"
      ],
      "metadata": {
        "colab": {
          "base_uri": "https://localhost:8080/"
        },
        "id": "90m3CpP9JVR7",
        "outputId": "5b34477c-adcc-4cfb-9181-9f94a3361583"
      },
      "execution_count": 15,
      "outputs": [
        {
          "output_type": "stream",
          "name": "stdout",
          "text": [
            "{'Germany': 'Berlin', 'Canada': 'Ottawa', 'Italy': 'Rome'}\n"
          ]
        }
      ]
    },
    {
      "cell_type": "code",
      "source": [
        "country_capitals = {\n",
        "  \"Germany\": \"Berlin\",\n",
        "  \"Canada\": \"Ottawa\",\n",
        "  \"Italy\": \"Rome\"\n",
        "}\n",
        "\n",
        "#Deleting/removing items from a dictionary\n",
        "del country_capitals[\"Germany\"]\n",
        "print (country_capitals)\n",
        "\n",
        "#Note: We can also use the pop() method to remove an item from a dictionary.\n",
        "# country_capitals.pop(\"Germany\")\n",
        "\n",
        "#If we need to remove all items from a dictionary at once, we can use the clear() method.\n",
        "# country_capitals.clear()\n",
        "# print (country_capitals)"
      ],
      "metadata": {
        "colab": {
          "base_uri": "https://localhost:8080/"
        },
        "id": "dEPgyAoUJmNB",
        "outputId": "2db3b97f-8a2c-462f-9d55-dc2696366548"
      },
      "execution_count": 35,
      "outputs": [
        {
          "output_type": "stream",
          "name": "stdout",
          "text": [
            "{'Canada': 'Ottawa', 'Italy': 'Rome'}\n"
          ]
        }
      ]
    },
    {
      "cell_type": "code",
      "source": [
        "#Exercise\n",
        "#Creating a dictionary\n",
        "Score_values = {\n",
        "    \"50-59\": \"Average\",\n",
        "    \"60-69\": \"Above average\",\n",
        "    \"70-79\": \"Good\",\n",
        "    \"80-100\": \"Excellent\"\n",
        "}\n",
        "#adding values to an existing dictionary\n",
        "Score_values [\"40-49\"] = [\"Below Average\"]\n",
        "\n",
        "print (Score_values)\n",
        "#accessing specific values\n",
        "\n",
        "print (Score_values [\"70-79\"])\n",
        "\n",
        "#deleting items from a dictionary\n",
        "del Score_values [\"40-49\"]\n",
        "print(Score_values)\n",
        "\n",
        "#length and membership\n",
        "print(len(Score_values))\n",
        "print('70-79' in Score_values)\n",
        "\n",
        "# Score_values.clear()\n",
        "# print(Score_values)\n"
      ],
      "metadata": {
        "colab": {
          "base_uri": "https://localhost:8080/"
        },
        "id": "9KvpwHvNG8NX",
        "outputId": "25b33a51-18ff-4418-bbca-ef51524b9e07"
      },
      "execution_count": 50,
      "outputs": [
        {
          "output_type": "stream",
          "name": "stdout",
          "text": [
            "{'50-59': 'Average', '60-69': 'Above average', '70-79': 'Good', '80-100': 'Excellent', '40-49': ['Below Average']}\n",
            "Good\n",
            "{'50-59': 'Average', '60-69': 'Above average', '70-79': 'Good', '80-100': 'Excellent'}\n",
            "4\n",
            "True\n"
          ]
        }
      ]
    },
    {
      "cell_type": "code",
      "source": [
        "#Changing Dictionary items\n",
        "country_capitals = {\n",
        "  \"Germany\": \"Berlin\",\n",
        "  \"Italy\": \"Naples\",\n",
        "  \"England\": \"London\"\n",
        "}\n",
        "# change the value of \"Italy\" key to \"Rome\"\n",
        "country_capitals[\"Italy\"] = \"Rome\"\n",
        "print(country_capitals)\n",
        "#Note: We can also use the update() method to add or change dictionary items."
      ],
      "metadata": {
        "colab": {
          "base_uri": "https://localhost:8080/"
        },
        "id": "rspyKovdHCVN",
        "outputId": "0704e22e-a903-49df-eaf7-2dfa87d5c8b0"
      },
      "execution_count": 41,
      "outputs": [
        {
          "output_type": "stream",
          "name": "stdout",
          "text": [
            "{'Germany': 'Berlin', 'Italy': 'Rome', 'England': 'London'}\n"
          ]
        }
      ]
    },
    {
      "cell_type": "code",
      "source": [
        "#Iterate through a dictionary\n",
        "country_capitals = {\n",
        "  \"United States\": \"Washington D.C.\",\n",
        "  \"Italy\": \"Rome\"\n",
        "}\n",
        "# print dictionary keys one by one\n",
        "for country in country_capitals:\n",
        "    print(country)\n",
        "print()\n",
        "# print dictionary values one by one\n",
        "for country in country_capitals:\n",
        "    capital = country_capitals[country]\n",
        "    print(capital)"
      ],
      "metadata": {
        "colab": {
          "base_uri": "https://localhost:8080/"
        },
        "id": "2YwFa3KXOPPg",
        "outputId": "5bf49471-fa72-4ee1-8430-91c91530fdaa"
      },
      "execution_count": 42,
      "outputs": [
        {
          "output_type": "stream",
          "name": "stdout",
          "text": [
            "United States\n",
            "Italy\n",
            "\n",
            "Washington D.C.\n",
            "Rome\n"
          ]
        }
      ]
    },
    {
      "cell_type": "code",
      "source": [
        "#Find dictionary length\n",
        "country_capitals = {\"England\": \"London\", \"Italy\": \"Rome\"}\n",
        "# get dictionary's length\n",
        "print(len(country_capitals))   # Output: 2\n",
        "numbers = {10: \"ten\", 20: \"twenty\", 30: \"thirty\"}\n",
        "# get dictionary's length\n",
        "print(len(numbers))            # Output: 3\n",
        "countries = {}\n",
        "# get dictionary's length\n",
        "print(len(countries))          # Output: 0\n",
        "\n",
        "#Membership test\n",
        "print ('Kenya' in country_capitals)"
      ],
      "metadata": {
        "colab": {
          "base_uri": "https://localhost:8080/"
        },
        "id": "4OUuCkzKOlBd",
        "outputId": "ea85e1e6-98e1-43f6-9ddf-5f55bed1bf38"
      },
      "execution_count": 45,
      "outputs": [
        {
          "output_type": "stream",
          "name": "stdout",
          "text": [
            "2\n",
            "3\n",
            "0\n",
            "False\n"
          ]
        }
      ]
    }
  ]
}