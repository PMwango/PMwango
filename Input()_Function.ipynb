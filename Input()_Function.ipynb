{
  "nbformat": 4,
  "nbformat_minor": 0,
  "metadata": {
    "colab": {
      "provenance": [],
      "authorship_tag": "ABX9TyPJP+qwQltopds1gaHiosmD",
      "include_colab_link": true
    },
    "kernelspec": {
      "name": "python3",
      "display_name": "Python 3"
    },
    "language_info": {
      "name": "python"
    }
  },
  "cells": [
    {
      "cell_type": "markdown",
      "metadata": {
        "id": "view-in-github",
        "colab_type": "text"
      },
      "source": [
        "<a href=\"https://colab.research.google.com/github/PMwango/PMwango/blob/main/Input()_Function.ipynb\" target=\"_parent\"><img src=\"https://colab.research.google.com/assets/colab-badge.svg\" alt=\"Open In Colab\"/></a>"
      ]
    },
    {
      "cell_type": "code",
      "execution_count": 6,
      "metadata": {
        "id": "M1BFrDOvRgCK"
      },
      "outputs": [],
      "source": [
        "#Input() = A function that prompts the user to enter data.\n",
        "#Returns the data as a string.\n",
        "#We can assign the string to a variable.\n",
        "#We can also include other statements that we would like using\n",
        "#the print function without the f-string.\n",
        "#f-string used when inserting variables."
      ]
    },
    {
      "cell_type": "code",
      "source": [
        "name = input (\"What is your name?:\")\n",
        "\n",
        "print (f\"Hello {name}!\")"
      ],
      "metadata": {
        "colab": {
          "base_uri": "https://localhost:8080/"
        },
        "id": "_q08LMGrTEmA",
        "outputId": "6740e19c-de0b-4f7c-98dc-31a4151b4265"
      },
      "execution_count": 5,
      "outputs": [
        {
          "output_type": "stream",
          "name": "stdout",
          "text": [
            "What is your name?:June\n",
            "Hello June!\n"
          ]
        }
      ]
    },
    {
      "cell_type": "code",
      "source": [
        "name = input (\"What is your name?:\")\n",
        "age = input (\"How old are you?:\")\n",
        "destination = input (\"What is your travel destination?:\")\n",
        "\n",
        "#Converting age from str to int then adding +1:\n",
        "age = int(age)\n",
        "age = age + 1\n",
        "#Instead of converting the age variable from string to integer\n",
        "#on a sperate line of code, we can also use:\n",
        "\n",
        "#age = int (input (\"How old are you?:\"))\n",
        "\n",
        "print (f\"Hello {name}!\")\n",
        "print (\"HAPPY BIRTHDAY!\")\n",
        "print (f\"You are {age} years old.\")\n",
        "print (f\"Welcome to {destination}.\")\n",
        "\n",
        "\n"
      ],
      "metadata": {
        "colab": {
          "base_uri": "https://localhost:8080/"
        },
        "id": "SOm24IbbVCRt",
        "outputId": "67d8a1d5-b399-4fcb-a3ca-07f975a82239"
      },
      "execution_count": 24,
      "outputs": [
        {
          "output_type": "stream",
          "name": "stdout",
          "text": [
            "What is your name?:Akinyi\n",
            "How old are you?:23\n",
            "What is your travel destination?:Dubai\n",
            "Hello Akinyi!\n",
            "HAPPY BIRTHDAY!\n",
            "You are 24 years old.\n",
            "Welcome to Dubai.\n"
          ]
        }
      ]
    },
    {
      "cell_type": "code",
      "source": [
        "#Exercise 1\n",
        "#Calculating the area of a rectangle.\n",
        "#This code prompts the user to input the length\n",
        "#and width (dimensions) of the rectangle then outputs the area of the rectangle."
      ],
      "metadata": {
        "id": "uInziN-NbXRR"
      },
      "execution_count": null,
      "outputs": []
    },
    {
      "cell_type": "code",
      "source": [
        "length = float(input (\"Enter the length of the rectangle:\"))\n",
        "width = float (input (\"Enter the width of the rectangle:\"))\n",
        "\n",
        "print (f\"The length of the rectangle is {length} metres\")\n",
        "print (f\"The width of the rectangle is {width} metres\")\n",
        "\n",
        "area = length * width\n",
        "\n",
        "print (f\"The area is {area} square metres\")"
      ],
      "metadata": {
        "colab": {
          "base_uri": "https://localhost:8080/"
        },
        "id": "to_DQadDbt4_",
        "outputId": "6bc21664-9dc7-4ba8-c8c7-d04c471f3a68"
      },
      "execution_count": 33,
      "outputs": [
        {
          "output_type": "stream",
          "name": "stdout",
          "text": [
            "Enter the length of the rectangle:65\n",
            "Enter the width of the rectangle:97\n",
            "The length of the rectangle is 65.0 metres\n",
            "The width of the rectangle is 97.0 metres\n",
            "The area is 6305.0 square metres\n"
          ]
        }
      ]
    },
    {
      "cell_type": "code",
      "source": [
        "#Exercise 2\n",
        "#Shopping cart program\n",
        "#This code prompts a user to input what they would like to buy\n",
        "#then calculates and outputs the price total.\n",
        "\n",
        "item = input (\"What would you like to buy?\")\n",
        "price = float(input (\"What is the price?\"))\n",
        "quantity = int(input (\"How many would you like?\"))\n",
        "total = price * quantity\n",
        "\n",
        "print (f\"You have bought {quantity} {item}/s\")\n",
        "print (f\"Your total is ${total}\")\n"
      ],
      "metadata": {
        "colab": {
          "base_uri": "https://localhost:8080/"
        },
        "id": "JinTiltRgXn4",
        "outputId": "eb8c27fd-2ee5-47c8-c2fc-d58e3b80498f"
      },
      "execution_count": 36,
      "outputs": [
        {
          "output_type": "stream",
          "name": "stdout",
          "text": [
            "What would you like to buy?pizza\n",
            "What is the price?12.99\n",
            "How many would you like?4\n",
            "You have bought 4 pizza/s\n",
            "Your total is $51.96\n"
          ]
        }
      ]
    }
  ]
}