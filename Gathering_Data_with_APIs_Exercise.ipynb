{
  "nbformat": 4,
  "nbformat_minor": 0,
  "metadata": {
    "colab": {
      "provenance": [],
      "authorship_tag": "ABX9TyN3WdNhuofJdep9Xryb7VX8",
      "include_colab_link": true
    },
    "kernelspec": {
      "name": "python3",
      "display_name": "Python 3"
    },
    "language_info": {
      "name": "python"
    }
  },
  "cells": [
    {
      "cell_type": "markdown",
      "metadata": {
        "id": "view-in-github",
        "colab_type": "text"
      },
      "source": [
        "<a href=\"https://colab.research.google.com/github/PMwango/PMwango/blob/main/Gathering_Data_with_APIs_Exercise.ipynb\" target=\"_parent\"><img src=\"https://colab.research.google.com/assets/colab-badge.svg\" alt=\"Open In Colab\"/></a>"
      ]
    },
    {
      "cell_type": "code",
      "execution_count": 2,
      "metadata": {
        "colab": {
          "base_uri": "https://localhost:8080/"
        },
        "collapsed": true,
        "id": "dcATnHjMw_RN",
        "outputId": "4acb522f-4d26-45bb-a73a-57f579450931"
      },
      "outputs": [
        {
          "output_type": "stream",
          "name": "stdout",
          "text": [
            "Requirement already satisfied: requests in /usr/local/lib/python3.11/dist-packages (2.32.3)\n",
            "Requirement already satisfied: pandas in /usr/local/lib/python3.11/dist-packages (2.2.2)\n",
            "Requirement already satisfied: charset-normalizer<4,>=2 in /usr/local/lib/python3.11/dist-packages (from requests) (3.4.1)\n",
            "Requirement already satisfied: idna<4,>=2.5 in /usr/local/lib/python3.11/dist-packages (from requests) (3.10)\n",
            "Requirement already satisfied: urllib3<3,>=1.21.1 in /usr/local/lib/python3.11/dist-packages (from requests) (2.3.0)\n",
            "Requirement already satisfied: certifi>=2017.4.17 in /usr/local/lib/python3.11/dist-packages (from requests) (2025.1.31)\n",
            "Requirement already satisfied: numpy>=1.23.2 in /usr/local/lib/python3.11/dist-packages (from pandas) (2.0.2)\n",
            "Requirement already satisfied: python-dateutil>=2.8.2 in /usr/local/lib/python3.11/dist-packages (from pandas) (2.8.2)\n",
            "Requirement already satisfied: pytz>=2020.1 in /usr/local/lib/python3.11/dist-packages (from pandas) (2025.2)\n",
            "Requirement already satisfied: tzdata>=2022.7 in /usr/local/lib/python3.11/dist-packages (from pandas) (2025.2)\n",
            "Requirement already satisfied: six>=1.5 in /usr/local/lib/python3.11/dist-packages (from python-dateutil>=2.8.2->pandas) (1.17.0)\n"
          ]
        }
      ],
      "source": [
        "# Install the requests library via pip - Python Installer Package\n",
        "!pip install requests pandas"
      ]
    },
    {
      "cell_type": "code",
      "source": [
        "# Send a request to the OMDb API to search for movies related to \"Star Wars\"\n",
        "\n",
        "import requests\n",
        "# API setup\n",
        "base_url = \"https://www.omdbapi.com/\"\n",
        "api_key = \"d48cac8d\"\n",
        "# Parameters for the GET request\n",
        "params = {\n",
        "    \"apikey\": api_key,\n",
        "    \"s\": \"star wars\"\n",
        "}\n",
        "# Sending the GET request\n",
        "response = requests.get(base_url, params=params)\n",
        "\n",
        "# Check the status code to ensure the request was successful\n",
        "response.status_code"
      ],
      "metadata": {
        "colab": {
          "base_uri": "https://localhost:8080/"
        },
        "id": "lzs7IOJyzc_K",
        "outputId": "4823a186-b4c0-4068-fb3e-d6f390f7a459"
      },
      "execution_count": 6,
      "outputs": [
        {
          "output_type": "execute_result",
          "data": {
            "text/plain": [
              "200"
            ]
          },
          "metadata": {},
          "execution_count": 6
        }
      ]
    },
    {
      "cell_type": "code",
      "source": [
        "# Parsing the JSON Response\n",
        "if response.status_code == 200:\n",
        "      results = response.json()['Search']\n",
        "else:\n",
        "    print(\"Error:\", response.status_code)"
      ],
      "metadata": {
        "id": "I14opoEL0RF7"
      },
      "execution_count": 9,
      "outputs": []
    },
    {
      "cell_type": "code",
      "source": [
        "# Creating a Pandas DataFrame\n",
        "\n",
        "import pandas as pd\n",
        "\n",
        "movies_list = []\n",
        "\n",
        "# Extracting data for each movie\n",
        "for result in results:\n",
        "    movies_details = {\n",
        "        \"Title\": result['Title'],\n",
        "        \"Year\": result[\"Year\"],\n",
        "        \"ID\": result['imdbID'],\n",
        "        \"Type\": result[\"Type\"]\n",
        "    }\n",
        "    movies_list.append(movies_details)\n",
        "\n",
        "# Creating the DataFrame\n",
        "movies_df = pd.DataFrame(movies_list)\n",
        "\n",
        "# Displaying the first few rows of the DataFrame\n",
        "print(movies_df.head(10))"
      ],
      "metadata": {
        "colab": {
          "base_uri": "https://localhost:8080/"
        },
        "id": "g07ecslN15hP",
        "outputId": "823ecdb3-5fb2-4070-e918-b6c4f9c89ab7"
      },
      "execution_count": 13,
      "outputs": [
        {
          "output_type": "stream",
          "name": "stdout",
          "text": [
            "                                            Title  Year         ID   Type\n",
            "0              Star Wars: Episode IV - A New Hope  1977  tt0076759  movie\n",
            "1  Star Wars: Episode V - The Empire Strikes Back  1980  tt0080684  movie\n",
            "2      Star Wars: Episode VI - Return of the Jedi  1983  tt0086190  movie\n",
            "3      Star Wars: Episode VII - The Force Awakens  2015  tt2488496  movie\n",
            "4       Star Wars: Episode I - The Phantom Menace  1999  tt0120915  movie\n",
            "5    Star Wars: Episode III - Revenge of the Sith  2005  tt0121766  movie\n",
            "6    Star Wars: Episode II - Attack of the Clones  2002  tt0121765  movie\n",
            "7                    Rogue One: A Star Wars Story  2016  tt3748528  movie\n",
            "8         Star Wars: Episode VIII - The Last Jedi  2017  tt2527336  movie\n",
            "9   Star Wars: Episode IX - The Rise of Skywalker  2019  tt2527338  movie\n"
          ]
        }
      ]
    }
  ]
}