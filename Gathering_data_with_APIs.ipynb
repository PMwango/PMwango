{
  "nbformat": 4,
  "nbformat_minor": 0,
  "metadata": {
    "colab": {
      "provenance": [],
      "authorship_tag": "ABX9TyO+p0Iz5q+NJgwM4W2+fGT0",
      "include_colab_link": true
    },
    "kernelspec": {
      "name": "python3",
      "display_name": "Python 3"
    },
    "language_info": {
      "name": "python"
    }
  },
  "cells": [
    {
      "cell_type": "markdown",
      "metadata": {
        "id": "view-in-github",
        "colab_type": "text"
      },
      "source": [
        "<a href=\"https://colab.research.google.com/github/PMwango/PMwango/blob/main/Gathering_data_with_APIs.ipynb\" target=\"_parent\"><img src=\"https://colab.research.google.com/assets/colab-badge.svg\" alt=\"Open In Colab\"/></a>"
      ]
    },
    {
      "cell_type": "code",
      "execution_count": 27,
      "metadata": {
        "colab": {
          "base_uri": "https://localhost:8080/"
        },
        "id": "8Z_iVyZJgv1C",
        "outputId": "c36207cf-2fce-4f61-d438-409b9cfacc0e"
      },
      "outputs": [
        {
          "output_type": "stream",
          "name": "stdout",
          "text": [
            "Requirement already satisfied: requests in /usr/local/lib/python3.11/dist-packages (2.32.3)\n",
            "Requirement already satisfied: charset-normalizer<4,>=2 in /usr/local/lib/python3.11/dist-packages (from requests) (3.4.1)\n",
            "Requirement already satisfied: idna<4,>=2.5 in /usr/local/lib/python3.11/dist-packages (from requests) (3.10)\n",
            "Requirement already satisfied: urllib3<3,>=1.21.1 in /usr/local/lib/python3.11/dist-packages (from requests) (2.3.0)\n",
            "Requirement already satisfied: certifi>=2017.4.17 in /usr/local/lib/python3.11/dist-packages (from requests) (2025.1.31)\n"
          ]
        }
      ],
      "source": [
        "# API- Application Programming Interface\n",
        "#Facilitates communication btwn a client and a server\n",
        "#through requests and responses- acts as a bridge\n",
        "# Install the requests library via pip - Python Installer Package\n",
        "!pip install requests"
      ]
    },
    {
      "cell_type": "code",
      "source": [
        "#APIs in Data Science eliminate the need for manual data entry\n",
        "# by automating data collection\n",
        "\n",
        "# The GET HTTP method is mainly used in REST APIs to retrieve resources without modifying them.\n",
        "import requests\n",
        "api_url = \"https://jsonplaceholder.typicode.com/todos/1\"\n",
        "response = requests.get(api_url)\n",
        "response.json()\n"
      ],
      "metadata": {
        "colab": {
          "base_uri": "https://localhost:8080/"
        },
        "id": "L0xlQCx9hlUL",
        "outputId": "7af12827-90f7-4d59-f992-516f2b0e19c0"
      },
      "execution_count": 28,
      "outputs": [
        {
          "output_type": "execute_result",
          "data": {
            "text/plain": [
              "{'userId': 1, 'id': 1, 'title': 'delectus aut autem', 'completed': False}"
            ]
          },
          "metadata": {},
          "execution_count": 28
        }
      ]
    },
    {
      "cell_type": "code",
      "source": [
        "response.status_code"
      ],
      "metadata": {
        "colab": {
          "base_uri": "https://localhost:8080/"
        },
        "id": "FjD9Z-QcigJX",
        "outputId": "4496eab3-9040-495e-8e17-f80819d39028"
      },
      "execution_count": 29,
      "outputs": [
        {
          "output_type": "execute_result",
          "data": {
            "text/plain": [
              "200"
            ]
          },
          "metadata": {},
          "execution_count": 29
        }
      ]
    },
    {
      "cell_type": "code",
      "source": [
        "# The POST method in REST APIs is used for creating new resources\n",
        "\n",
        "# Data to send in the POST request\n",
        "info = {\"userId\": 1, \"title\": \"Buy milk\", \"completed\": False}\n",
        "\n",
        "#Define the API endpoint\n",
        "api_url = \"https://jsonplaceholder.typicode.com/todos/\"\n",
        "\n",
        "# Send a POST request\n",
        "response = requests.post(api_url, json = info)\n",
        "\n",
        "# Print the response JSON\n",
        "print(response.json())"
      ],
      "metadata": {
        "colab": {
          "base_uri": "https://localhost:8080/"
        },
        "id": "iLu3OUk5i4_-",
        "outputId": "866731fe-df47-438c-abab-e2c36c7a64f2"
      },
      "execution_count": 30,
      "outputs": [
        {
          "output_type": "stream",
          "name": "stdout",
          "text": [
            "{'userId': 1, 'title': 'Buy milk', 'completed': False, 'id': 201}\n"
          ]
        }
      ]
    },
    {
      "cell_type": "code",
      "source": [
        "api_url = \"https://jsonplaceholder.typicode.com/todos/10\"\n",
        "response = requests.get(api_url)\n",
        "response.json()"
      ],
      "metadata": {
        "colab": {
          "base_uri": "https://localhost:8080/"
        },
        "id": "UPPMH4n1j9oY",
        "outputId": "4df3fb86-d05b-44da-a9d4-46893f3f234c"
      },
      "execution_count": 31,
      "outputs": [
        {
          "output_type": "execute_result",
          "data": {
            "text/plain": [
              "{'userId': 1,\n",
              " 'id': 10,\n",
              " 'title': 'illo est ratione doloremque quia maiores aut',\n",
              " 'completed': True}"
            ]
          },
          "metadata": {},
          "execution_count": 31
        }
      ]
    },
    {
      "cell_type": "code",
      "source": [
        "# The PUT method in REST APIs is used to update an existing resource entirely\n",
        "# The PATCH method modifies a resource partially\n",
        "\n",
        "todo = {\"userid\": 1, \"title\": \"cook lunch\", \"completed\": True}\n",
        "response = requests.put(api_url, json = todo)\n",
        "print(response.json())\n",
        "response.status_code"
      ],
      "metadata": {
        "colab": {
          "base_uri": "https://localhost:8080/"
        },
        "id": "3dpMlR96j96W",
        "outputId": "aee2289c-3ffb-46f7-d502-d55e420d85f4"
      },
      "execution_count": 32,
      "outputs": [
        {
          "output_type": "stream",
          "name": "stdout",
          "text": [
            "{'userid': 1, 'title': 'cook lunch', 'completed': True, 'id': 10}\n"
          ]
        },
        {
          "output_type": "execute_result",
          "data": {
            "text/plain": [
              "200"
            ]
          },
          "metadata": {},
          "execution_count": 32
        }
      ]
    },
    {
      "cell_type": "code",
      "source": [
        "# The DELETE method is used in REST APIs\n",
        "# to completely remove a resource identified by a specific URI.\n",
        "\n",
        "import requests\n",
        "\n",
        "# Specify the API URL for the resource you want to delete\n",
        "api_url = \"https://jsonplaceholder.typicode.com/todos/10\"\n",
        "\n",
        "# Send a DELETE request\n",
        "response = requests.delete(api_url)\n",
        "\n",
        "# Optional: Retrieve any returned data as JSON\n",
        "deleted_response = response.json()\n",
        "print(deleted_response)\n",
        "\n",
        "# Check and print the HTTP status code of the response\n",
        "print(response.status_code)  # Output: 200"
      ],
      "metadata": {
        "colab": {
          "base_uri": "https://localhost:8080/"
        },
        "id": "67AlrK5jv3wc",
        "outputId": "c6374746-f157-4344-c959-76a3cd5f8db1"
      },
      "execution_count": 33,
      "outputs": [
        {
          "output_type": "stream",
          "name": "stdout",
          "text": [
            "{}\n",
            "200\n"
          ]
        }
      ]
    }
  ]
}