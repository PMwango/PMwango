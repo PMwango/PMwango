{
  "nbformat": 4,
  "nbformat_minor": 0,
  "metadata": {
    "colab": {
      "provenance": [],
      "authorship_tag": "ABX9TyMopRvIX+eBs5Z0kSgVfQOE",
      "include_colab_link": true
    },
    "kernelspec": {
      "name": "python3",
      "display_name": "Python 3"
    },
    "language_info": {
      "name": "python"
    }
  },
  "cells": [
    {
      "cell_type": "markdown",
      "metadata": {
        "id": "view-in-github",
        "colab_type": "text"
      },
      "source": [
        "<a href=\"https://colab.research.google.com/github/PMwango/PMwango/blob/main/Python_List_methods.ipynb\" target=\"_parent\"><img src=\"https://colab.research.google.com/assets/colab-badge.svg\" alt=\"Open In Colab\"/></a>"
      ]
    },
    {
      "cell_type": "code",
      "source": [
        "#Add elements to a list in Python\n",
        "#append"
      ],
      "metadata": {
        "id": "lMTXzKBmylLu"
      },
      "execution_count": null,
      "outputs": []
    },
    {
      "cell_type": "code",
      "execution_count": 104,
      "metadata": {
        "colab": {
          "base_uri": "https://localhost:8080/"
        },
        "id": "ohBZN56iyVRV",
        "outputId": "864334fc-a9a4-4db7-c3f7-4a057040f186"
      },
      "outputs": [
        {
          "output_type": "stream",
          "name": "stdout",
          "text": [
            "Original List: ['apple', 'banana', 'orange']\n",
            "Updated List: ['apple', 'banana', 'orange', 'cherry']\n",
            "Final List: ['apple', 'banana', 'orange', 'cherry', 'kiwi']\n",
            "['kiwi', 'cherry', 'orange', 'banana', 'apple']\n",
            "['apple', 'banana', 'cherry', 'kiwi', 'orange']\n",
            "['apple', 'banana', 'cherry', 'kiwi', 'orange']\n",
            "['banana', 'cherry', 'kiwi', 'orange']\n"
          ]
        },
        {
          "output_type": "execute_result",
          "data": {
            "text/plain": [
              "1"
            ]
          },
          "metadata": {},
          "execution_count": 104
        }
      ],
      "source": [
        "fruits = ['apple', 'banana', 'orange']\n",
        "print('Original List:', fruits)\n",
        "fruits.append('cherry')\n",
        "print('Updated List:', fruits)\n",
        "fruits.append ('kiwi')\n",
        "print(\"Final List:\", fruits)\n",
        "\n",
        "#Other methods\n",
        "fruits.reverse()\n",
        "print (fruits)\n",
        "fruits.sort()\n",
        "print (fruits)\n",
        "fruits.copy()\n",
        "print (fruits)\n",
        "fruits.pop(0)\n",
        "print(fruits)\n",
        "fruits.index('banana')\n",
        "fruits.count('banana')\n",
        "#counts the number of times an element appears in a list\n",
        "# fruits.clear()\n",
        "# print(fruits)\n",
        "\n",
        "\n"
      ]
    },
    {
      "cell_type": "code",
      "source": [
        "#Insert an element at a specific index in Python\n",
        "#insert"
      ],
      "metadata": {
        "id": "5oyIfSNbypgF"
      },
      "execution_count": null,
      "outputs": []
    },
    {
      "cell_type": "code",
      "source": [
        "fruits = ['apple', 'banana', 'orange']\n",
        "print(\"Original List:\", fruits)\n",
        "fruits.insert(2, 'cherry')\n",
        "print(\"Updated List:\", fruits)\n",
        "fruits.insert (3,'lemon')\n",
        "print (\"Final List:\" , fruits)"
      ],
      "metadata": {
        "colab": {
          "base_uri": "https://localhost:8080/"
        },
        "id": "-6y-JgTyywHa",
        "outputId": "831fb091-bbf2-4095-ce89-fd66214b35bf"
      },
      "execution_count": 12,
      "outputs": [
        {
          "output_type": "stream",
          "name": "stdout",
          "text": [
            "Original List: ['apple', 'banana', 'orange']\n",
            "Updated List: ['apple', 'banana', 'cherry', 'orange']\n",
            "Final List: ['apple', 'banana', 'cherry', 'lemon', 'orange']\n"
          ]
        }
      ]
    },
    {
      "cell_type": "code",
      "source": [
        "#Add elements to a list from other iterables\n",
        "#like a list, dictionary, tuple or string\n",
        "#to the end of the list\n",
        "#extend"
      ],
      "metadata": {
        "id": "Oy5TO-AOy6DD"
      },
      "execution_count": null,
      "outputs": []
    },
    {
      "cell_type": "code",
      "source": [
        "numbers = [1, 3, 5]\n",
        "print('Numbers:', numbers)\n",
        "even_numbers  = [2, 4, 6]\n",
        "print('Even numbers:', numbers)\n",
        "# adding elements of one list to another\n",
        "numbers.extend(even_numbers)\n",
        "print('Updated Numbers:', numbers)"
      ],
      "metadata": {
        "colab": {
          "base_uri": "https://localhost:8080/"
        },
        "id": "qeekSY_TzWPR",
        "outputId": "ea2c2153-99fb-414f-dd86-57c8084814b9"
      },
      "execution_count": 4,
      "outputs": [
        {
          "output_type": "stream",
          "name": "stdout",
          "text": [
            "Numbers: [1, 3, 5]\n",
            "Even numbers: [1, 3, 5]\n",
            "Updated Numbers: [1, 3, 5, 2, 4, 6]\n"
          ]
        }
      ]
    },
    {
      "cell_type": "code",
      "source": [
        "#Change list items - by assigning new values\n",
        "#using the = operator\n",
        "#Here, we have replaced the element at index 0 to 'Purple'\n",
        "# and the element at index 2 to 'Blue'\n",
        "\n"
      ],
      "metadata": {
        "id": "yYoX3QPh0z8L"
      },
      "execution_count": null,
      "outputs": []
    },
    {
      "cell_type": "code",
      "source": [
        "colors = ['Red', 'Black', 'Green']\n",
        "print('Original List:', colors)\n",
        "# change the first item to 'Purple'\n",
        "colors[0] = 'Purple'\n",
        "# change the third item to 'Blue'\n",
        "colors[2] = 'Blue'\n",
        "print('Updated List:', colors)"
      ],
      "metadata": {
        "colab": {
          "base_uri": "https://localhost:8080/"
        },
        "id": "x7APa5-n1XKf",
        "outputId": "923dde6c-d493-4985-fab1-5020d40f6ead"
      },
      "execution_count": 14,
      "outputs": [
        {
          "output_type": "stream",
          "name": "stdout",
          "text": [
            "Original List: ['Red', 'Black', 'Green']\n",
            "Updated List: ['Purple', 'Black', 'Blue']\n"
          ]
        }
      ]
    },
    {
      "cell_type": "code",
      "source": [
        "#Remove an item from the list\n",
        "#remove"
      ],
      "metadata": {
        "id": "hrqb3eeF1l0j"
      },
      "execution_count": null,
      "outputs": []
    },
    {
      "cell_type": "code",
      "source": [
        "numbers = [2,4,7,9]\n",
        "# remove 4 from the list\n",
        "numbers.remove(9)\n",
        "print(numbers)"
      ],
      "metadata": {
        "colab": {
          "base_uri": "https://localhost:8080/"
        },
        "id": "8PcOZVaF2BJI",
        "outputId": "21a228c2-4950-40cb-a893-39df1c87f188"
      },
      "execution_count": 17,
      "outputs": [
        {
          "output_type": "stream",
          "name": "stdout",
          "text": [
            "[2, 4, 7]\n"
          ]
        }
      ]
    },
    {
      "cell_type": "code",
      "source": [
        "#Remove multiple items from a list or an entire list\n",
        "#delete"
      ],
      "metadata": {
        "id": "WqkbJsfm2TbN"
      },
      "execution_count": null,
      "outputs": []
    },
    {
      "cell_type": "code",
      "source": [
        "names = ['John', 'Eva', 'Laura', 'Nick', 'Jack']\n",
        "# delete the item at index 1\n",
        "del names[1]\n",
        "print(names)\n",
        "# delete items from index 1 to index 2\n",
        "del names[2:3]\n",
        "print(names)\n",
        "# delete the entire list\n",
        "del names\n",
        "# Error! List doesn't exist.\n",
        "print(names)"
      ],
      "metadata": {
        "colab": {
          "base_uri": "https://localhost:8080/",
          "height": 211
        },
        "id": "ZGGkeID12L0Y",
        "outputId": "2c0eaf5c-c297-4802-b563-11780cee603c"
      },
      "execution_count": 36,
      "outputs": [
        {
          "output_type": "stream",
          "name": "stdout",
          "text": [
            "['John', 'Laura', 'Nick', 'Jack']\n",
            "['John', 'Laura', 'Jack']\n"
          ]
        },
        {
          "output_type": "error",
          "ename": "NameError",
          "evalue": "name 'names' is not defined",
          "traceback": [
            "\u001b[0;31m---------------------------------------------------------------------------\u001b[0m",
            "\u001b[0;31mNameError\u001b[0m                                 Traceback (most recent call last)",
            "\u001b[0;32m<ipython-input-36-b0f10a0791c6>\u001b[0m in \u001b[0;36m<cell line: 0>\u001b[0;34m()\u001b[0m\n\u001b[1;32m      9\u001b[0m \u001b[0;32mdel\u001b[0m \u001b[0mnames\u001b[0m\u001b[0;34m\u001b[0m\u001b[0;34m\u001b[0m\u001b[0m\n\u001b[1;32m     10\u001b[0m \u001b[0;31m# Error! List doesn't exist.\u001b[0m\u001b[0;34m\u001b[0m\u001b[0;34m\u001b[0m\u001b[0m\n\u001b[0;32m---> 11\u001b[0;31m \u001b[0mprint\u001b[0m\u001b[0;34m(\u001b[0m\u001b[0mnames\u001b[0m\u001b[0;34m)\u001b[0m\u001b[0;34m\u001b[0m\u001b[0;34m\u001b[0m\u001b[0m\n\u001b[0m",
            "\u001b[0;31mNameError\u001b[0m: name 'names' is not defined"
          ]
        }
      ]
    },
    {
      "cell_type": "code",
      "source": [
        "#Python list length\n",
        "cars = ['BMW', 'Mercedes', 'Tesla']\n",
        "print('Total Elements:', len(cars))\n",
        "print (len(cars))"
      ],
      "metadata": {
        "colab": {
          "base_uri": "https://localhost:8080/"
        },
        "id": "SBP3ul514Pc1",
        "outputId": "4941647b-3f0a-4d85-eee7-04bf12a76588"
      },
      "execution_count": 34,
      "outputs": [
        {
          "output_type": "stream",
          "name": "stdout",
          "text": [
            "Total Elements: 3\n",
            "3\n"
          ]
        }
      ]
    },
    {
      "cell_type": "code",
      "source": [
        "#Iterating through a list- using a loop\n",
        "fruits = ['apple', 'banana', 'orange']\n",
        "# iterate through the list\n",
        "for fruit in fruits:\n",
        "    print(fruit)\n"
      ],
      "metadata": {
        "colab": {
          "base_uri": "https://localhost:8080/"
        },
        "id": "I73JfPLV41b-",
        "outputId": "013a01d6-46d7-4def-8907-62125bbf5eed"
      },
      "execution_count": 103,
      "outputs": [
        {
          "output_type": "stream",
          "name": "stdout",
          "text": [
            "apple\n",
            "banana\n",
            "orange\n"
          ]
        }
      ]
    },
    {
      "cell_type": "code",
      "source": [
        "#Exercise\n",
        "# Define the list: list = [17, 38, 10, 25, 72], then perform the following actions:\n",
        "\n",
        "# Sort and display the list\n",
        "# Add the element 12 to the list and display the list\n",
        "# Reverse and display the list\n",
        "# Display the index of the element 17\n",
        "# Remove the element 38 and display the list\n",
        "# Display the sublist from the 2nd to the 3rd element\n",
        "# Display the sublist from the beginning to the 2nd element\n",
        "# Display the sublist from the 3rd element to the end of the list\n",
        "# Display the complete sublist of the list\n",
        "# Display the last element using negative indexing."
      ],
      "metadata": {
        "id": "XDN4VjCG9AtC"
      },
      "execution_count": null,
      "outputs": []
    },
    {
      "cell_type": "code",
      "source": [
        "List = [17,38,10,25,72]\n",
        "\n",
        "List.sort()\n",
        "print (\"Sorted List:\", List)\n",
        "List.append(12)\n",
        "print (\"Updated List:\" , List)\n",
        "List.reverse()\n",
        "print(\"Reversed List:\", List)\n",
        "List.index(17)\n",
        "List.remove(38)\n",
        "print (\"New List: \", List)\n",
        "List[1:3]\n",
        "List [0:2]\n",
        "List[2:]\n",
        "#-\n",
        "List[-1]\n",
        "\n"
      ],
      "metadata": {
        "colab": {
          "base_uri": "https://localhost:8080/"
        },
        "id": "t5TitxhK80pY",
        "outputId": "92800da6-d1ab-418b-a192-5c5bca198bae"
      },
      "execution_count": 105,
      "outputs": [
        {
          "output_type": "stream",
          "name": "stdout",
          "text": [
            "Sorted List: [10, 17, 25, 38, 72]\n",
            "Updated List: [10, 17, 25, 38, 72, 12]\n",
            "Reversed List: [12, 72, 38, 25, 17, 10]\n",
            "New List:  [12, 72, 25, 17, 10]\n"
          ]
        },
        {
          "output_type": "execute_result",
          "data": {
            "text/plain": [
              "10"
            ]
          },
          "metadata": {},
          "execution_count": 105
        }
      ]
    }
  ]
}