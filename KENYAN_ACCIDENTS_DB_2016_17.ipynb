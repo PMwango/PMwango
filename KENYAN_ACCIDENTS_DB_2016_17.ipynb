{
  "nbformat": 4,
  "nbformat_minor": 0,
  "metadata": {
    "colab": {
      "provenance": [],
      "authorship_tag": "ABX9TyNqzvcqff5S59H0P5DXfgaD",
      "include_colab_link": true
    },
    "kernelspec": {
      "name": "python3",
      "display_name": "Python 3"
    },
    "language_info": {
      "name": "python"
    }
  },
  "cells": [
    {
      "cell_type": "markdown",
      "metadata": {
        "id": "view-in-github",
        "colab_type": "text"
      },
      "source": [
        "<a href=\"https://colab.research.google.com/github/PMwango/PMwango/blob/main/KENYAN_ACCIDENTS_DB_2016_17.ipynb\" target=\"_parent\"><img src=\"https://colab.research.google.com/assets/colab-badge.svg\" alt=\"Open In Colab\"/></a>"
      ]
    },
    {
      "cell_type": "code",
      "execution_count": 1,
      "metadata": {
        "id": "90-6fSbk6iVR"
      },
      "outputs": [],
      "source": [
        "import pandas as pd\n",
        "import numpy as np"
      ]
    },
    {
      "cell_type": "markdown",
      "source": [
        "#**Loading the Dataset**"
      ],
      "metadata": {
        "id": "uy1JHeeOcMPT"
      }
    },
    {
      "cell_type": "code",
      "source": [
        "import pandas as pd\n",
        "import numpy as np\n",
        "#Load the Excel file\n",
        "KE_Accidents = pd.ExcelFile('/content/kenya-accidents-database.xlsx')\n",
        "\n",
        "#Read the 2016 and 2017 sheets as separate dataframes\n",
        "df_2016 = pd.read_excel(KE_Accidents, '2016')\n",
        "df_2017 = pd.read_excel(KE_Accidents, '2017')\n",
        "\n",
        "#Combine the data into one DataFrame while resetting the row index to prevent duplicate indices\n",
        "df = pd.concat([df_2016, df_2017], ignore_index=True)\n",
        "\n",
        "#Close the ExcelFile object to release memory\n",
        "KE_Accidents.close()\n",
        "\n",
        "# Assign the concatenated DataFrame to KE_Accidents\n",
        "KE_Accidents = df\n",
        "\n",
        "#Export to CSV (all data on the same \"sheet\" i.e. same file)\n",
        "# df.to_csv('Kenya_accidents_2016_2017_combined.csv', index=False)\n",
        "df.head()"
      ],
      "metadata": {
        "colab": {
          "base_uri": "https://localhost:8080/",
          "height": 310
        },
        "id": "1JenfoIB7Dbg",
        "outputId": "5956c906-eda3-4c29-dfd3-5bd852492620"
      },
      "execution_count": 3,
      "outputs": [
        {
          "output_type": "execute_result",
          "data": {
            "text/plain": [
              "  TIME 24 HOURS  BASE/SUB BASE        COUNTY             ROAD         PLACE  \\\n",
              "0           630          KITUI       MAKUENI    KITUI-ITHOKWE  KITUI SCHOOL   \n",
              "1           830            VOI  TAITA TAVETA  MOMBASA-NAIROBI        IKANGA   \n",
              "2          1330      MARIAKANI        KILIFI  MOMBASA-NAIROBI      KATOLANI   \n",
              "3          2100  ONGATA RONGAI        NAKURU   NAKURU-NAIROBI  MAASAI LODGE   \n",
              "4          1900          MATUU      MACHAKOS     MATUU-MWINGI     KIVANDINI   \n",
              "\n",
              "                              BRIEF ACCIDENT DETAILS      VICTIM GENDER  NO.  \\\n",
              "0                                  HEAD ON COLLISION   M/CYCLIST      M    1   \n",
              "1                                  HEAD ON COLLISION   M/CYCLIST      M    1   \n",
              "2                THE UNKNOWN M/V HIT THE MOTOR CYCLE   M/CYCLIST      M    1   \n",
              "3  THE VEHICLE KNOCKED DOWN A PEDESTRIAN WHO WAS ...  PEDESTRIAN      M    1   \n",
              "4  THE VEHICLE OVERTOOK A M/CYCLE AND LOST CONTRO...   PASSENGER      M    1   \n",
              "\n",
              "  Date DD/MM/YYYY  \n",
              "0      2016-06-25  \n",
              "1      2016-06-25  \n",
              "2      2016-06-25  \n",
              "3      2016-06-25  \n",
              "4      2016-06-25  "
            ],
            "text/html": [
              "\n",
              "  <div id=\"df-a7fb240c-3397-4d6e-92d2-5a2ecc78b53c\" class=\"colab-df-container\">\n",
              "    <div>\n",
              "<style scoped>\n",
              "    .dataframe tbody tr th:only-of-type {\n",
              "        vertical-align: middle;\n",
              "    }\n",
              "\n",
              "    .dataframe tbody tr th {\n",
              "        vertical-align: top;\n",
              "    }\n",
              "\n",
              "    .dataframe thead th {\n",
              "        text-align: right;\n",
              "    }\n",
              "</style>\n",
              "<table border=\"1\" class=\"dataframe\">\n",
              "  <thead>\n",
              "    <tr style=\"text-align: right;\">\n",
              "      <th></th>\n",
              "      <th>TIME 24 HOURS</th>\n",
              "      <th>BASE/SUB BASE</th>\n",
              "      <th>COUNTY</th>\n",
              "      <th>ROAD</th>\n",
              "      <th>PLACE</th>\n",
              "      <th>BRIEF ACCIDENT DETAILS</th>\n",
              "      <th>VICTIM</th>\n",
              "      <th>GENDER</th>\n",
              "      <th>NO.</th>\n",
              "      <th>Date DD/MM/YYYY</th>\n",
              "    </tr>\n",
              "  </thead>\n",
              "  <tbody>\n",
              "    <tr>\n",
              "      <th>0</th>\n",
              "      <td>630</td>\n",
              "      <td>KITUI</td>\n",
              "      <td>MAKUENI</td>\n",
              "      <td>KITUI-ITHOKWE</td>\n",
              "      <td>KITUI SCHOOL</td>\n",
              "      <td>HEAD ON COLLISION</td>\n",
              "      <td>M/CYCLIST</td>\n",
              "      <td>M</td>\n",
              "      <td>1</td>\n",
              "      <td>2016-06-25</td>\n",
              "    </tr>\n",
              "    <tr>\n",
              "      <th>1</th>\n",
              "      <td>830</td>\n",
              "      <td>VOI</td>\n",
              "      <td>TAITA TAVETA</td>\n",
              "      <td>MOMBASA-NAIROBI</td>\n",
              "      <td>IKANGA</td>\n",
              "      <td>HEAD ON COLLISION</td>\n",
              "      <td>M/CYCLIST</td>\n",
              "      <td>M</td>\n",
              "      <td>1</td>\n",
              "      <td>2016-06-25</td>\n",
              "    </tr>\n",
              "    <tr>\n",
              "      <th>2</th>\n",
              "      <td>1330</td>\n",
              "      <td>MARIAKANI</td>\n",
              "      <td>KILIFI</td>\n",
              "      <td>MOMBASA-NAIROBI</td>\n",
              "      <td>KATOLANI</td>\n",
              "      <td>THE UNKNOWN M/V HIT THE MOTOR CYCLE</td>\n",
              "      <td>M/CYCLIST</td>\n",
              "      <td>M</td>\n",
              "      <td>1</td>\n",
              "      <td>2016-06-25</td>\n",
              "    </tr>\n",
              "    <tr>\n",
              "      <th>3</th>\n",
              "      <td>2100</td>\n",
              "      <td>ONGATA RONGAI</td>\n",
              "      <td>NAKURU</td>\n",
              "      <td>NAKURU-NAIROBI</td>\n",
              "      <td>MAASAI LODGE</td>\n",
              "      <td>THE VEHICLE KNOCKED DOWN A PEDESTRIAN WHO WAS ...</td>\n",
              "      <td>PEDESTRIAN</td>\n",
              "      <td>M</td>\n",
              "      <td>1</td>\n",
              "      <td>2016-06-25</td>\n",
              "    </tr>\n",
              "    <tr>\n",
              "      <th>4</th>\n",
              "      <td>1900</td>\n",
              "      <td>MATUU</td>\n",
              "      <td>MACHAKOS</td>\n",
              "      <td>MATUU-MWINGI</td>\n",
              "      <td>KIVANDINI</td>\n",
              "      <td>THE VEHICLE OVERTOOK A M/CYCLE AND LOST CONTRO...</td>\n",
              "      <td>PASSENGER</td>\n",
              "      <td>M</td>\n",
              "      <td>1</td>\n",
              "      <td>2016-06-25</td>\n",
              "    </tr>\n",
              "  </tbody>\n",
              "</table>\n",
              "</div>\n",
              "    <div class=\"colab-df-buttons\">\n",
              "\n",
              "  <div class=\"colab-df-container\">\n",
              "    <button class=\"colab-df-convert\" onclick=\"convertToInteractive('df-a7fb240c-3397-4d6e-92d2-5a2ecc78b53c')\"\n",
              "            title=\"Convert this dataframe to an interactive table.\"\n",
              "            style=\"display:none;\">\n",
              "\n",
              "  <svg xmlns=\"http://www.w3.org/2000/svg\" height=\"24px\" viewBox=\"0 -960 960 960\">\n",
              "    <path d=\"M120-120v-720h720v720H120Zm60-500h600v-160H180v160Zm220 220h160v-160H400v160Zm0 220h160v-160H400v160ZM180-400h160v-160H180v160Zm440 0h160v-160H620v160ZM180-180h160v-160H180v160Zm440 0h160v-160H620v160Z\"/>\n",
              "  </svg>\n",
              "    </button>\n",
              "\n",
              "  <style>\n",
              "    .colab-df-container {\n",
              "      display:flex;\n",
              "      gap: 12px;\n",
              "    }\n",
              "\n",
              "    .colab-df-convert {\n",
              "      background-color: #E8F0FE;\n",
              "      border: none;\n",
              "      border-radius: 50%;\n",
              "      cursor: pointer;\n",
              "      display: none;\n",
              "      fill: #1967D2;\n",
              "      height: 32px;\n",
              "      padding: 0 0 0 0;\n",
              "      width: 32px;\n",
              "    }\n",
              "\n",
              "    .colab-df-convert:hover {\n",
              "      background-color: #E2EBFA;\n",
              "      box-shadow: 0px 1px 2px rgba(60, 64, 67, 0.3), 0px 1px 3px 1px rgba(60, 64, 67, 0.15);\n",
              "      fill: #174EA6;\n",
              "    }\n",
              "\n",
              "    .colab-df-buttons div {\n",
              "      margin-bottom: 4px;\n",
              "    }\n",
              "\n",
              "    [theme=dark] .colab-df-convert {\n",
              "      background-color: #3B4455;\n",
              "      fill: #D2E3FC;\n",
              "    }\n",
              "\n",
              "    [theme=dark] .colab-df-convert:hover {\n",
              "      background-color: #434B5C;\n",
              "      box-shadow: 0px 1px 3px 1px rgba(0, 0, 0, 0.15);\n",
              "      filter: drop-shadow(0px 1px 2px rgba(0, 0, 0, 0.3));\n",
              "      fill: #FFFFFF;\n",
              "    }\n",
              "  </style>\n",
              "\n",
              "    <script>\n",
              "      const buttonEl =\n",
              "        document.querySelector('#df-a7fb240c-3397-4d6e-92d2-5a2ecc78b53c button.colab-df-convert');\n",
              "      buttonEl.style.display =\n",
              "        google.colab.kernel.accessAllowed ? 'block' : 'none';\n",
              "\n",
              "      async function convertToInteractive(key) {\n",
              "        const element = document.querySelector('#df-a7fb240c-3397-4d6e-92d2-5a2ecc78b53c');\n",
              "        const dataTable =\n",
              "          await google.colab.kernel.invokeFunction('convertToInteractive',\n",
              "                                                    [key], {});\n",
              "        if (!dataTable) return;\n",
              "\n",
              "        const docLinkHtml = 'Like what you see? Visit the ' +\n",
              "          '<a target=\"_blank\" href=https://colab.research.google.com/notebooks/data_table.ipynb>data table notebook</a>'\n",
              "          + ' to learn more about interactive tables.';\n",
              "        element.innerHTML = '';\n",
              "        dataTable['output_type'] = 'display_data';\n",
              "        await google.colab.output.renderOutput(dataTable, element);\n",
              "        const docLink = document.createElement('div');\n",
              "        docLink.innerHTML = docLinkHtml;\n",
              "        element.appendChild(docLink);\n",
              "      }\n",
              "    </script>\n",
              "  </div>\n",
              "\n",
              "\n",
              "<div id=\"df-770e4cd6-3eb2-4d4d-b21e-53c605752e4f\">\n",
              "  <button class=\"colab-df-quickchart\" onclick=\"quickchart('df-770e4cd6-3eb2-4d4d-b21e-53c605752e4f')\"\n",
              "            title=\"Suggest charts\"\n",
              "            style=\"display:none;\">\n",
              "\n",
              "<svg xmlns=\"http://www.w3.org/2000/svg\" height=\"24px\"viewBox=\"0 0 24 24\"\n",
              "     width=\"24px\">\n",
              "    <g>\n",
              "        <path d=\"M19 3H5c-1.1 0-2 .9-2 2v14c0 1.1.9 2 2 2h14c1.1 0 2-.9 2-2V5c0-1.1-.9-2-2-2zM9 17H7v-7h2v7zm4 0h-2V7h2v10zm4 0h-2v-4h2v4z\"/>\n",
              "    </g>\n",
              "</svg>\n",
              "  </button>\n",
              "\n",
              "<style>\n",
              "  .colab-df-quickchart {\n",
              "      --bg-color: #E8F0FE;\n",
              "      --fill-color: #1967D2;\n",
              "      --hover-bg-color: #E2EBFA;\n",
              "      --hover-fill-color: #174EA6;\n",
              "      --disabled-fill-color: #AAA;\n",
              "      --disabled-bg-color: #DDD;\n",
              "  }\n",
              "\n",
              "  [theme=dark] .colab-df-quickchart {\n",
              "      --bg-color: #3B4455;\n",
              "      --fill-color: #D2E3FC;\n",
              "      --hover-bg-color: #434B5C;\n",
              "      --hover-fill-color: #FFFFFF;\n",
              "      --disabled-bg-color: #3B4455;\n",
              "      --disabled-fill-color: #666;\n",
              "  }\n",
              "\n",
              "  .colab-df-quickchart {\n",
              "    background-color: var(--bg-color);\n",
              "    border: none;\n",
              "    border-radius: 50%;\n",
              "    cursor: pointer;\n",
              "    display: none;\n",
              "    fill: var(--fill-color);\n",
              "    height: 32px;\n",
              "    padding: 0;\n",
              "    width: 32px;\n",
              "  }\n",
              "\n",
              "  .colab-df-quickchart:hover {\n",
              "    background-color: var(--hover-bg-color);\n",
              "    box-shadow: 0 1px 2px rgba(60, 64, 67, 0.3), 0 1px 3px 1px rgba(60, 64, 67, 0.15);\n",
              "    fill: var(--button-hover-fill-color);\n",
              "  }\n",
              "\n",
              "  .colab-df-quickchart-complete:disabled,\n",
              "  .colab-df-quickchart-complete:disabled:hover {\n",
              "    background-color: var(--disabled-bg-color);\n",
              "    fill: var(--disabled-fill-color);\n",
              "    box-shadow: none;\n",
              "  }\n",
              "\n",
              "  .colab-df-spinner {\n",
              "    border: 2px solid var(--fill-color);\n",
              "    border-color: transparent;\n",
              "    border-bottom-color: var(--fill-color);\n",
              "    animation:\n",
              "      spin 1s steps(1) infinite;\n",
              "  }\n",
              "\n",
              "  @keyframes spin {\n",
              "    0% {\n",
              "      border-color: transparent;\n",
              "      border-bottom-color: var(--fill-color);\n",
              "      border-left-color: var(--fill-color);\n",
              "    }\n",
              "    20% {\n",
              "      border-color: transparent;\n",
              "      border-left-color: var(--fill-color);\n",
              "      border-top-color: var(--fill-color);\n",
              "    }\n",
              "    30% {\n",
              "      border-color: transparent;\n",
              "      border-left-color: var(--fill-color);\n",
              "      border-top-color: var(--fill-color);\n",
              "      border-right-color: var(--fill-color);\n",
              "    }\n",
              "    40% {\n",
              "      border-color: transparent;\n",
              "      border-right-color: var(--fill-color);\n",
              "      border-top-color: var(--fill-color);\n",
              "    }\n",
              "    60% {\n",
              "      border-color: transparent;\n",
              "      border-right-color: var(--fill-color);\n",
              "    }\n",
              "    80% {\n",
              "      border-color: transparent;\n",
              "      border-right-color: var(--fill-color);\n",
              "      border-bottom-color: var(--fill-color);\n",
              "    }\n",
              "    90% {\n",
              "      border-color: transparent;\n",
              "      border-bottom-color: var(--fill-color);\n",
              "    }\n",
              "  }\n",
              "</style>\n",
              "\n",
              "  <script>\n",
              "    async function quickchart(key) {\n",
              "      const quickchartButtonEl =\n",
              "        document.querySelector('#' + key + ' button');\n",
              "      quickchartButtonEl.disabled = true;  // To prevent multiple clicks.\n",
              "      quickchartButtonEl.classList.add('colab-df-spinner');\n",
              "      try {\n",
              "        const charts = await google.colab.kernel.invokeFunction(\n",
              "            'suggestCharts', [key], {});\n",
              "      } catch (error) {\n",
              "        console.error('Error during call to suggestCharts:', error);\n",
              "      }\n",
              "      quickchartButtonEl.classList.remove('colab-df-spinner');\n",
              "      quickchartButtonEl.classList.add('colab-df-quickchart-complete');\n",
              "    }\n",
              "    (() => {\n",
              "      let quickchartButtonEl =\n",
              "        document.querySelector('#df-770e4cd6-3eb2-4d4d-b21e-53c605752e4f button');\n",
              "      quickchartButtonEl.style.display =\n",
              "        google.colab.kernel.accessAllowed ? 'block' : 'none';\n",
              "    })();\n",
              "  </script>\n",
              "</div>\n",
              "\n",
              "    </div>\n",
              "  </div>\n"
            ],
            "application/vnd.google.colaboratory.intrinsic+json": {
              "type": "dataframe",
              "variable_name": "df",
              "summary": "{\n  \"name\": \"df\",\n  \"rows\": 1118,\n  \"fields\": [\n    {\n      \"column\": \"TIME 24 HOURS\",\n      \"properties\": {\n        \"dtype\": \"category\",\n        \"num_unique_values\": 198,\n        \"samples\": [\n          915,\n          10,\n          1030\n        ],\n        \"semantic_type\": \"\",\n        \"description\": \"\"\n      }\n    },\n    {\n      \"column\": \"BASE/SUB BASE\",\n      \"properties\": {\n        \"dtype\": \"category\",\n        \"num_unique_values\": 212,\n        \"samples\": [\n          \"MOIS BRIDGE\",\n          \"SUBA\",\n          \"DTEO MAKINGENI\"\n        ],\n        \"semantic_type\": \"\",\n        \"description\": \"\"\n      }\n    },\n    {\n      \"column\": \"COUNTY\",\n      \"properties\": {\n        \"dtype\": \"category\",\n        \"num_unique_values\": 57,\n        \"samples\": [\n          \"MAKUENI\",\n          \"HOMA BAY\",\n          \"VIHIGA\"\n        ],\n        \"semantic_type\": \"\",\n        \"description\": \"\"\n      }\n    },\n    {\n      \"column\": \"ROAD\",\n      \"properties\": {\n        \"dtype\": \"string\",\n        \"num_unique_values\": 714,\n        \"samples\": [\n          \"KISII MARANI\",\n          \"NAIROBI - MOMBASA\",\n          \"JOGOO\"\n        ],\n        \"semantic_type\": \"\",\n        \"description\": \"\"\n      }\n    },\n    {\n      \"column\": \"PLACE\",\n      \"properties\": {\n        \"dtype\": \"string\",\n        \"num_unique_values\": 1026,\n        \"samples\": [\n          \"NEAR KAITI BRIDGE\",\n          \"KOMAROCK PETROL STATION\",\n          \"BELLE VIEW AREA\"\n        ],\n        \"semantic_type\": \"\",\n        \"description\": \"\"\n      }\n    },\n    {\n      \"column\": \"BRIEF ACCIDENT DETAILS\",\n      \"properties\": {\n        \"dtype\": \"category\",\n        \"num_unique_values\": 470,\n        \"samples\": [\n          \"THE VEHICLE POWER FAILED AND ROLLED\",\n          \"THE VEHICLE LOST CONTROL AND ROLLED SEVERALLY\",\n          \"THE VEHICLE LOST CONTROL AND KNOCKED DOWN THE VICTIM\"\n        ],\n        \"semantic_type\": \"\",\n        \"description\": \"\"\n      }\n    },\n    {\n      \"column\": \"VICTIM\",\n      \"properties\": {\n        \"dtype\": \"category\",\n        \"num_unique_values\": 54,\n        \"samples\": [\n          \"PASSEGER\",\n          \"1 DRIVER & 4 PASSENGERS\",\n          \"1 DRIVER & 2 PASSENGERS\"\n        ],\n        \"semantic_type\": \"\",\n        \"description\": \"\"\n      }\n    },\n    {\n      \"column\": \"GENDER\",\n      \"properties\": {\n        \"dtype\": \"category\",\n        \"num_unique_values\": 3,\n        \"samples\": [\n          \"M\",\n          \"M & F\",\n          \"F\"\n        ],\n        \"semantic_type\": \"\",\n        \"description\": \"\"\n      }\n    },\n    {\n      \"column\": \"NO.\",\n      \"properties\": {\n        \"dtype\": \"number\",\n        \"std\": 0,\n        \"min\": 1,\n        \"max\": 18,\n        \"num_unique_values\": 10,\n        \"samples\": [\n          18,\n          3,\n          4\n        ],\n        \"semantic_type\": \"\",\n        \"description\": \"\"\n      }\n    },\n    {\n      \"column\": \"Date DD/MM/YYYY\",\n      \"properties\": {\n        \"dtype\": \"date\",\n        \"min\": \"2016-04-01 00:00:00\",\n        \"max\": \"2017-11-06 00:00:00\",\n        \"num_unique_values\": 169,\n        \"samples\": [\n          \"2017-05-14 00:00:00\",\n          \"2016-04-21 00:00:00\",\n          \"2017-07-03 00:00:00\"\n        ],\n        \"semantic_type\": \"\",\n        \"description\": \"\"\n      }\n    }\n  ]\n}"
            }
          },
          "metadata": {},
          "execution_count": 3
        }
      ]
    },
    {
      "cell_type": "code",
      "source": [
        "# View column names\n",
        "KE_Accidents.columns"
      ],
      "metadata": {
        "colab": {
          "base_uri": "https://localhost:8080/"
        },
        "id": "QFSIwh5cD_4F",
        "outputId": "e50b699a-f568-479c-8ae1-cf2cd2d447db"
      },
      "execution_count": 4,
      "outputs": [
        {
          "output_type": "execute_result",
          "data": {
            "text/plain": [
              "Index(['TIME 24 HOURS', 'BASE/SUB BASE', 'COUNTY', 'ROAD', 'PLACE',\n",
              "       'BRIEF ACCIDENT DETAILS', 'VICTIM', 'GENDER', 'NO.', 'Date DD/MM/YYYY'],\n",
              "      dtype='object')"
            ]
          },
          "metadata": {},
          "execution_count": 4
        }
      ]
    },
    {
      "cell_type": "code",
      "source": [
        "KE_Accidents.info()"
      ],
      "metadata": {
        "colab": {
          "base_uri": "https://localhost:8080/"
        },
        "collapsed": true,
        "id": "CBvsCAaKEGco",
        "outputId": "8a2440b8-0780-4763-95fd-0be74b64fd7b"
      },
      "execution_count": 5,
      "outputs": [
        {
          "output_type": "stream",
          "name": "stdout",
          "text": [
            "<class 'pandas.core.frame.DataFrame'>\n",
            "RangeIndex: 1118 entries, 0 to 1117\n",
            "Data columns (total 10 columns):\n",
            " #   Column                  Non-Null Count  Dtype         \n",
            "---  ------                  --------------  -----         \n",
            " 0   TIME 24 HOURS           1113 non-null   object        \n",
            " 1   BASE/SUB BASE           1116 non-null   object        \n",
            " 2   COUNTY                  1115 non-null   object        \n",
            " 3   ROAD                    1115 non-null   object        \n",
            " 4   PLACE                   1117 non-null   object        \n",
            " 5   BRIEF ACCIDENT DETAILS  1117 non-null   object        \n",
            " 6   VICTIM                  1118 non-null   object        \n",
            " 7   GENDER                  1118 non-null   object        \n",
            " 8   NO.                     1118 non-null   int64         \n",
            " 9   Date DD/MM/YYYY         1118 non-null   datetime64[ns]\n",
            "dtypes: datetime64[ns](1), int64(1), object(8)\n",
            "memory usage: 87.5+ KB\n"
          ]
        }
      ]
    },
    {
      "cell_type": "code",
      "source": [
        "#Checking for null values\n",
        "KE_Accidents.isnull().sum()"
      ],
      "metadata": {
        "colab": {
          "base_uri": "https://localhost:8080/",
          "height": 398
        },
        "collapsed": true,
        "id": "C740F8guEMj7",
        "outputId": "201ce647-d497-4370-878e-09203c250563"
      },
      "execution_count": 6,
      "outputs": [
        {
          "output_type": "execute_result",
          "data": {
            "text/plain": [
              "TIME 24 HOURS             5\n",
              "BASE/SUB BASE             2\n",
              "COUNTY                    3\n",
              "ROAD                      3\n",
              "PLACE                     1\n",
              "BRIEF ACCIDENT DETAILS    1\n",
              "VICTIM                    0\n",
              "GENDER                    0\n",
              "NO.                       0\n",
              "Date DD/MM/YYYY           0\n",
              "dtype: int64"
            ],
            "text/html": [
              "<div>\n",
              "<style scoped>\n",
              "    .dataframe tbody tr th:only-of-type {\n",
              "        vertical-align: middle;\n",
              "    }\n",
              "\n",
              "    .dataframe tbody tr th {\n",
              "        vertical-align: top;\n",
              "    }\n",
              "\n",
              "    .dataframe thead th {\n",
              "        text-align: right;\n",
              "    }\n",
              "</style>\n",
              "<table border=\"1\" class=\"dataframe\">\n",
              "  <thead>\n",
              "    <tr style=\"text-align: right;\">\n",
              "      <th></th>\n",
              "      <th>0</th>\n",
              "    </tr>\n",
              "  </thead>\n",
              "  <tbody>\n",
              "    <tr>\n",
              "      <th>TIME 24 HOURS</th>\n",
              "      <td>5</td>\n",
              "    </tr>\n",
              "    <tr>\n",
              "      <th>BASE/SUB BASE</th>\n",
              "      <td>2</td>\n",
              "    </tr>\n",
              "    <tr>\n",
              "      <th>COUNTY</th>\n",
              "      <td>3</td>\n",
              "    </tr>\n",
              "    <tr>\n",
              "      <th>ROAD</th>\n",
              "      <td>3</td>\n",
              "    </tr>\n",
              "    <tr>\n",
              "      <th>PLACE</th>\n",
              "      <td>1</td>\n",
              "    </tr>\n",
              "    <tr>\n",
              "      <th>BRIEF ACCIDENT DETAILS</th>\n",
              "      <td>1</td>\n",
              "    </tr>\n",
              "    <tr>\n",
              "      <th>VICTIM</th>\n",
              "      <td>0</td>\n",
              "    </tr>\n",
              "    <tr>\n",
              "      <th>GENDER</th>\n",
              "      <td>0</td>\n",
              "    </tr>\n",
              "    <tr>\n",
              "      <th>NO.</th>\n",
              "      <td>0</td>\n",
              "    </tr>\n",
              "    <tr>\n",
              "      <th>Date DD/MM/YYYY</th>\n",
              "      <td>0</td>\n",
              "    </tr>\n",
              "  </tbody>\n",
              "</table>\n",
              "</div><br><label><b>dtype:</b> int64</label>"
            ]
          },
          "metadata": {},
          "execution_count": 6
        }
      ]
    },
    {
      "cell_type": "code",
      "source": [
        "# Dropping null values\n",
        "df.dropna(inplace =True)\n",
        "df.isnull().sum()"
      ],
      "metadata": {
        "colab": {
          "base_uri": "https://localhost:8080/",
          "height": 398
        },
        "collapsed": true,
        "id": "2s50i8L7EV1A",
        "outputId": "9fbadc6e-4d35-4d36-d164-a2feb3d12623"
      },
      "execution_count": 7,
      "outputs": [
        {
          "output_type": "execute_result",
          "data": {
            "text/plain": [
              "TIME 24 HOURS             0\n",
              "BASE/SUB BASE             0\n",
              "COUNTY                    0\n",
              "ROAD                      0\n",
              "PLACE                     0\n",
              "BRIEF ACCIDENT DETAILS    0\n",
              "VICTIM                    0\n",
              "GENDER                    0\n",
              "NO.                       0\n",
              "Date DD/MM/YYYY           0\n",
              "dtype: int64"
            ],
            "text/html": [
              "<div>\n",
              "<style scoped>\n",
              "    .dataframe tbody tr th:only-of-type {\n",
              "        vertical-align: middle;\n",
              "    }\n",
              "\n",
              "    .dataframe tbody tr th {\n",
              "        vertical-align: top;\n",
              "    }\n",
              "\n",
              "    .dataframe thead th {\n",
              "        text-align: right;\n",
              "    }\n",
              "</style>\n",
              "<table border=\"1\" class=\"dataframe\">\n",
              "  <thead>\n",
              "    <tr style=\"text-align: right;\">\n",
              "      <th></th>\n",
              "      <th>0</th>\n",
              "    </tr>\n",
              "  </thead>\n",
              "  <tbody>\n",
              "    <tr>\n",
              "      <th>TIME 24 HOURS</th>\n",
              "      <td>0</td>\n",
              "    </tr>\n",
              "    <tr>\n",
              "      <th>BASE/SUB BASE</th>\n",
              "      <td>0</td>\n",
              "    </tr>\n",
              "    <tr>\n",
              "      <th>COUNTY</th>\n",
              "      <td>0</td>\n",
              "    </tr>\n",
              "    <tr>\n",
              "      <th>ROAD</th>\n",
              "      <td>0</td>\n",
              "    </tr>\n",
              "    <tr>\n",
              "      <th>PLACE</th>\n",
              "      <td>0</td>\n",
              "    </tr>\n",
              "    <tr>\n",
              "      <th>BRIEF ACCIDENT DETAILS</th>\n",
              "      <td>0</td>\n",
              "    </tr>\n",
              "    <tr>\n",
              "      <th>VICTIM</th>\n",
              "      <td>0</td>\n",
              "    </tr>\n",
              "    <tr>\n",
              "      <th>GENDER</th>\n",
              "      <td>0</td>\n",
              "    </tr>\n",
              "    <tr>\n",
              "      <th>NO.</th>\n",
              "      <td>0</td>\n",
              "    </tr>\n",
              "    <tr>\n",
              "      <th>Date DD/MM/YYYY</th>\n",
              "      <td>0</td>\n",
              "    </tr>\n",
              "  </tbody>\n",
              "</table>\n",
              "</div><br><label><b>dtype:</b> int64</label>"
            ]
          },
          "metadata": {},
          "execution_count": 7
        }
      ]
    },
    {
      "cell_type": "code",
      "source": [
        "# Data Cleaning:\n",
        "# Standardize cause-of-accident categories.\n",
        "# Merge similar causes to reduce category noise."
      ],
      "metadata": {
        "id": "EYZFyttaEhfn"
      },
      "execution_count": null,
      "outputs": []
    },
    {
      "cell_type": "markdown",
      "source": [
        "# **Data Cleaning:**\n",
        " Standardize cause-of-accident categories.\n",
        "Merge similar causes to reduce category noise."
      ],
      "metadata": {
        "id": "6rWHZlnbcB2F"
      }
    },
    {
      "cell_type": "code",
      "source": [
        "def categorize(BRIEF_ACCIDENT_DETAILS):\n",
        "    desc = str(BRIEF_ACCIDENT_DETAILS).lower()\n",
        "\n",
        "    # Categories and keyword rules\n",
        "    if any(keyword in desc for keyword in [\"speed\", \"hit\", \"hit&run\", \"hit&ran\", \"hit and ran\", \"hit and run\", \"rammed into\", \"knocked down\", \"head on collision\", \"collided\", \"colluded\", \"ran over\", \"run over\", \"knocked down\", \"overtaking\", \"overtook\", \"careless\", \"drunk\", \"negligent\", \"reckless\", \"fatigue\", \"distracted\"]):\n",
        "        return \"Human Error (Driver Behavior)\"\n",
        "    elif any(keyword in desc for keyword in [\"fall down\", \"fell\", \"fell down\", \"fell off\", \"jumped\", \"jumped out\", \"slipped\",\" overrun\", \"moving vehicle\", \"moving cycle\", \"motion\"]):\n",
        "        return \"Human Error (Hitch hiker,conductor/passenger fall)\"\n",
        "    elif any(keyword in desc for keyword in [\"brake\",\"brakes\", \"failed\", \"tyre\",  \"burst\", \"mechanical\", \"lost control\", \"cycle lost control\", \"wheel\", \"engine\"]):\n",
        "        return \"Mechanical Failure / Vehicle Condition\"\n",
        "    elif any(keyword in desc for keyword in [\"bump\", \"pothole\", \"slippery\", \"slid\", \"bend\", \"construction\", \"weather\", \"fog\", \"flood\"]):\n",
        "        return \"Road Infrastructure / Environmental Factors\"\n",
        "    elif any(keyword in desc for keyword in [\"cow\", \"animal\"]):\n",
        "        return \"Third-Party Error\"\n",
        "    elif any(keyword in desc for keyword in [\"unroadworthy\", \"overload\", \"no license\", \"no insurance\", \"expired\"]):\n",
        "        return \"Law Enforcement / Compliance Issues\"\n",
        "    elif any(keyword in desc for keyword in [\"unknown\", \"not provided\", \"unclear\", \"unidentified\"]):\n",
        "        return \"Unspecified / Unknown Cause\"\n",
        "    else:\n",
        "        return \"Unspecified / Unknown Cause\"\n",
        "\n",
        "# Apply the categorization\n",
        "df['Cause_of_Accident'] = df['BRIEF ACCIDENT DETAILS'].apply(categorize)\n",
        "\n",
        "# Save the result to a new Excel file\n",
        "#df.to_excel(\"categorized_accidents.xlsx\", index=False)\n",
        "\n",
        "print(\"Categorization complete.\")\n",
        "df.head()"
      ],
      "metadata": {
        "colab": {
          "base_uri": "https://localhost:8080/",
          "height": 328
        },
        "id": "gGl_w7v1FzDp",
        "outputId": "71ad6953-86ce-449c-89b3-4af32c1eb7e8"
      },
      "execution_count": 8,
      "outputs": [
        {
          "output_type": "stream",
          "name": "stdout",
          "text": [
            "Categorization complete.\n"
          ]
        },
        {
          "output_type": "execute_result",
          "data": {
            "text/plain": [
              "  TIME 24 HOURS  BASE/SUB BASE        COUNTY             ROAD         PLACE  \\\n",
              "0           630          KITUI       MAKUENI    KITUI-ITHOKWE  KITUI SCHOOL   \n",
              "1           830            VOI  TAITA TAVETA  MOMBASA-NAIROBI        IKANGA   \n",
              "2          1330      MARIAKANI        KILIFI  MOMBASA-NAIROBI      KATOLANI   \n",
              "3          2100  ONGATA RONGAI        NAKURU   NAKURU-NAIROBI  MAASAI LODGE   \n",
              "4          1900          MATUU      MACHAKOS     MATUU-MWINGI     KIVANDINI   \n",
              "\n",
              "                              BRIEF ACCIDENT DETAILS      VICTIM GENDER  NO.  \\\n",
              "0                                  HEAD ON COLLISION   M/CYCLIST      M    1   \n",
              "1                                  HEAD ON COLLISION   M/CYCLIST      M    1   \n",
              "2                THE UNKNOWN M/V HIT THE MOTOR CYCLE   M/CYCLIST      M    1   \n",
              "3  THE VEHICLE KNOCKED DOWN A PEDESTRIAN WHO WAS ...  PEDESTRIAN      M    1   \n",
              "4  THE VEHICLE OVERTOOK A M/CYCLE AND LOST CONTRO...   PASSENGER      M    1   \n",
              "\n",
              "  Date DD/MM/YYYY              Cause_of_Accident  \n",
              "0      2016-06-25  Human Error (Driver Behavior)  \n",
              "1      2016-06-25  Human Error (Driver Behavior)  \n",
              "2      2016-06-25  Human Error (Driver Behavior)  \n",
              "3      2016-06-25  Human Error (Driver Behavior)  \n",
              "4      2016-06-25  Human Error (Driver Behavior)  "
            ],
            "text/html": [
              "\n",
              "  <div id=\"df-8b570ec4-736e-4a1a-bd8b-98397aa49a2f\" class=\"colab-df-container\">\n",
              "    <div>\n",
              "<style scoped>\n",
              "    .dataframe tbody tr th:only-of-type {\n",
              "        vertical-align: middle;\n",
              "    }\n",
              "\n",
              "    .dataframe tbody tr th {\n",
              "        vertical-align: top;\n",
              "    }\n",
              "\n",
              "    .dataframe thead th {\n",
              "        text-align: right;\n",
              "    }\n",
              "</style>\n",
              "<table border=\"1\" class=\"dataframe\">\n",
              "  <thead>\n",
              "    <tr style=\"text-align: right;\">\n",
              "      <th></th>\n",
              "      <th>TIME 24 HOURS</th>\n",
              "      <th>BASE/SUB BASE</th>\n",
              "      <th>COUNTY</th>\n",
              "      <th>ROAD</th>\n",
              "      <th>PLACE</th>\n",
              "      <th>BRIEF ACCIDENT DETAILS</th>\n",
              "      <th>VICTIM</th>\n",
              "      <th>GENDER</th>\n",
              "      <th>NO.</th>\n",
              "      <th>Date DD/MM/YYYY</th>\n",
              "      <th>Cause_of_Accident</th>\n",
              "    </tr>\n",
              "  </thead>\n",
              "  <tbody>\n",
              "    <tr>\n",
              "      <th>0</th>\n",
              "      <td>630</td>\n",
              "      <td>KITUI</td>\n",
              "      <td>MAKUENI</td>\n",
              "      <td>KITUI-ITHOKWE</td>\n",
              "      <td>KITUI SCHOOL</td>\n",
              "      <td>HEAD ON COLLISION</td>\n",
              "      <td>M/CYCLIST</td>\n",
              "      <td>M</td>\n",
              "      <td>1</td>\n",
              "      <td>2016-06-25</td>\n",
              "      <td>Human Error (Driver Behavior)</td>\n",
              "    </tr>\n",
              "    <tr>\n",
              "      <th>1</th>\n",
              "      <td>830</td>\n",
              "      <td>VOI</td>\n",
              "      <td>TAITA TAVETA</td>\n",
              "      <td>MOMBASA-NAIROBI</td>\n",
              "      <td>IKANGA</td>\n",
              "      <td>HEAD ON COLLISION</td>\n",
              "      <td>M/CYCLIST</td>\n",
              "      <td>M</td>\n",
              "      <td>1</td>\n",
              "      <td>2016-06-25</td>\n",
              "      <td>Human Error (Driver Behavior)</td>\n",
              "    </tr>\n",
              "    <tr>\n",
              "      <th>2</th>\n",
              "      <td>1330</td>\n",
              "      <td>MARIAKANI</td>\n",
              "      <td>KILIFI</td>\n",
              "      <td>MOMBASA-NAIROBI</td>\n",
              "      <td>KATOLANI</td>\n",
              "      <td>THE UNKNOWN M/V HIT THE MOTOR CYCLE</td>\n",
              "      <td>M/CYCLIST</td>\n",
              "      <td>M</td>\n",
              "      <td>1</td>\n",
              "      <td>2016-06-25</td>\n",
              "      <td>Human Error (Driver Behavior)</td>\n",
              "    </tr>\n",
              "    <tr>\n",
              "      <th>3</th>\n",
              "      <td>2100</td>\n",
              "      <td>ONGATA RONGAI</td>\n",
              "      <td>NAKURU</td>\n",
              "      <td>NAKURU-NAIROBI</td>\n",
              "      <td>MAASAI LODGE</td>\n",
              "      <td>THE VEHICLE KNOCKED DOWN A PEDESTRIAN WHO WAS ...</td>\n",
              "      <td>PEDESTRIAN</td>\n",
              "      <td>M</td>\n",
              "      <td>1</td>\n",
              "      <td>2016-06-25</td>\n",
              "      <td>Human Error (Driver Behavior)</td>\n",
              "    </tr>\n",
              "    <tr>\n",
              "      <th>4</th>\n",
              "      <td>1900</td>\n",
              "      <td>MATUU</td>\n",
              "      <td>MACHAKOS</td>\n",
              "      <td>MATUU-MWINGI</td>\n",
              "      <td>KIVANDINI</td>\n",
              "      <td>THE VEHICLE OVERTOOK A M/CYCLE AND LOST CONTRO...</td>\n",
              "      <td>PASSENGER</td>\n",
              "      <td>M</td>\n",
              "      <td>1</td>\n",
              "      <td>2016-06-25</td>\n",
              "      <td>Human Error (Driver Behavior)</td>\n",
              "    </tr>\n",
              "  </tbody>\n",
              "</table>\n",
              "</div>\n",
              "    <div class=\"colab-df-buttons\">\n",
              "\n",
              "  <div class=\"colab-df-container\">\n",
              "    <button class=\"colab-df-convert\" onclick=\"convertToInteractive('df-8b570ec4-736e-4a1a-bd8b-98397aa49a2f')\"\n",
              "            title=\"Convert this dataframe to an interactive table.\"\n",
              "            style=\"display:none;\">\n",
              "\n",
              "  <svg xmlns=\"http://www.w3.org/2000/svg\" height=\"24px\" viewBox=\"0 -960 960 960\">\n",
              "    <path d=\"M120-120v-720h720v720H120Zm60-500h600v-160H180v160Zm220 220h160v-160H400v160Zm0 220h160v-160H400v160ZM180-400h160v-160H180v160Zm440 0h160v-160H620v160ZM180-180h160v-160H180v160Zm440 0h160v-160H620v160Z\"/>\n",
              "  </svg>\n",
              "    </button>\n",
              "\n",
              "  <style>\n",
              "    .colab-df-container {\n",
              "      display:flex;\n",
              "      gap: 12px;\n",
              "    }\n",
              "\n",
              "    .colab-df-convert {\n",
              "      background-color: #E8F0FE;\n",
              "      border: none;\n",
              "      border-radius: 50%;\n",
              "      cursor: pointer;\n",
              "      display: none;\n",
              "      fill: #1967D2;\n",
              "      height: 32px;\n",
              "      padding: 0 0 0 0;\n",
              "      width: 32px;\n",
              "    }\n",
              "\n",
              "    .colab-df-convert:hover {\n",
              "      background-color: #E2EBFA;\n",
              "      box-shadow: 0px 1px 2px rgba(60, 64, 67, 0.3), 0px 1px 3px 1px rgba(60, 64, 67, 0.15);\n",
              "      fill: #174EA6;\n",
              "    }\n",
              "\n",
              "    .colab-df-buttons div {\n",
              "      margin-bottom: 4px;\n",
              "    }\n",
              "\n",
              "    [theme=dark] .colab-df-convert {\n",
              "      background-color: #3B4455;\n",
              "      fill: #D2E3FC;\n",
              "    }\n",
              "\n",
              "    [theme=dark] .colab-df-convert:hover {\n",
              "      background-color: #434B5C;\n",
              "      box-shadow: 0px 1px 3px 1px rgba(0, 0, 0, 0.15);\n",
              "      filter: drop-shadow(0px 1px 2px rgba(0, 0, 0, 0.3));\n",
              "      fill: #FFFFFF;\n",
              "    }\n",
              "  </style>\n",
              "\n",
              "    <script>\n",
              "      const buttonEl =\n",
              "        document.querySelector('#df-8b570ec4-736e-4a1a-bd8b-98397aa49a2f button.colab-df-convert');\n",
              "      buttonEl.style.display =\n",
              "        google.colab.kernel.accessAllowed ? 'block' : 'none';\n",
              "\n",
              "      async function convertToInteractive(key) {\n",
              "        const element = document.querySelector('#df-8b570ec4-736e-4a1a-bd8b-98397aa49a2f');\n",
              "        const dataTable =\n",
              "          await google.colab.kernel.invokeFunction('convertToInteractive',\n",
              "                                                    [key], {});\n",
              "        if (!dataTable) return;\n",
              "\n",
              "        const docLinkHtml = 'Like what you see? Visit the ' +\n",
              "          '<a target=\"_blank\" href=https://colab.research.google.com/notebooks/data_table.ipynb>data table notebook</a>'\n",
              "          + ' to learn more about interactive tables.';\n",
              "        element.innerHTML = '';\n",
              "        dataTable['output_type'] = 'display_data';\n",
              "        await google.colab.output.renderOutput(dataTable, element);\n",
              "        const docLink = document.createElement('div');\n",
              "        docLink.innerHTML = docLinkHtml;\n",
              "        element.appendChild(docLink);\n",
              "      }\n",
              "    </script>\n",
              "  </div>\n",
              "\n",
              "\n",
              "<div id=\"df-33656747-5f44-4afb-9232-3db99689a394\">\n",
              "  <button class=\"colab-df-quickchart\" onclick=\"quickchart('df-33656747-5f44-4afb-9232-3db99689a394')\"\n",
              "            title=\"Suggest charts\"\n",
              "            style=\"display:none;\">\n",
              "\n",
              "<svg xmlns=\"http://www.w3.org/2000/svg\" height=\"24px\"viewBox=\"0 0 24 24\"\n",
              "     width=\"24px\">\n",
              "    <g>\n",
              "        <path d=\"M19 3H5c-1.1 0-2 .9-2 2v14c0 1.1.9 2 2 2h14c1.1 0 2-.9 2-2V5c0-1.1-.9-2-2-2zM9 17H7v-7h2v7zm4 0h-2V7h2v10zm4 0h-2v-4h2v4z\"/>\n",
              "    </g>\n",
              "</svg>\n",
              "  </button>\n",
              "\n",
              "<style>\n",
              "  .colab-df-quickchart {\n",
              "      --bg-color: #E8F0FE;\n",
              "      --fill-color: #1967D2;\n",
              "      --hover-bg-color: #E2EBFA;\n",
              "      --hover-fill-color: #174EA6;\n",
              "      --disabled-fill-color: #AAA;\n",
              "      --disabled-bg-color: #DDD;\n",
              "  }\n",
              "\n",
              "  [theme=dark] .colab-df-quickchart {\n",
              "      --bg-color: #3B4455;\n",
              "      --fill-color: #D2E3FC;\n",
              "      --hover-bg-color: #434B5C;\n",
              "      --hover-fill-color: #FFFFFF;\n",
              "      --disabled-bg-color: #3B4455;\n",
              "      --disabled-fill-color: #666;\n",
              "  }\n",
              "\n",
              "  .colab-df-quickchart {\n",
              "    background-color: var(--bg-color);\n",
              "    border: none;\n",
              "    border-radius: 50%;\n",
              "    cursor: pointer;\n",
              "    display: none;\n",
              "    fill: var(--fill-color);\n",
              "    height: 32px;\n",
              "    padding: 0;\n",
              "    width: 32px;\n",
              "  }\n",
              "\n",
              "  .colab-df-quickchart:hover {\n",
              "    background-color: var(--hover-bg-color);\n",
              "    box-shadow: 0 1px 2px rgba(60, 64, 67, 0.3), 0 1px 3px 1px rgba(60, 64, 67, 0.15);\n",
              "    fill: var(--button-hover-fill-color);\n",
              "  }\n",
              "\n",
              "  .colab-df-quickchart-complete:disabled,\n",
              "  .colab-df-quickchart-complete:disabled:hover {\n",
              "    background-color: var(--disabled-bg-color);\n",
              "    fill: var(--disabled-fill-color);\n",
              "    box-shadow: none;\n",
              "  }\n",
              "\n",
              "  .colab-df-spinner {\n",
              "    border: 2px solid var(--fill-color);\n",
              "    border-color: transparent;\n",
              "    border-bottom-color: var(--fill-color);\n",
              "    animation:\n",
              "      spin 1s steps(1) infinite;\n",
              "  }\n",
              "\n",
              "  @keyframes spin {\n",
              "    0% {\n",
              "      border-color: transparent;\n",
              "      border-bottom-color: var(--fill-color);\n",
              "      border-left-color: var(--fill-color);\n",
              "    }\n",
              "    20% {\n",
              "      border-color: transparent;\n",
              "      border-left-color: var(--fill-color);\n",
              "      border-top-color: var(--fill-color);\n",
              "    }\n",
              "    30% {\n",
              "      border-color: transparent;\n",
              "      border-left-color: var(--fill-color);\n",
              "      border-top-color: var(--fill-color);\n",
              "      border-right-color: var(--fill-color);\n",
              "    }\n",
              "    40% {\n",
              "      border-color: transparent;\n",
              "      border-right-color: var(--fill-color);\n",
              "      border-top-color: var(--fill-color);\n",
              "    }\n",
              "    60% {\n",
              "      border-color: transparent;\n",
              "      border-right-color: var(--fill-color);\n",
              "    }\n",
              "    80% {\n",
              "      border-color: transparent;\n",
              "      border-right-color: var(--fill-color);\n",
              "      border-bottom-color: var(--fill-color);\n",
              "    }\n",
              "    90% {\n",
              "      border-color: transparent;\n",
              "      border-bottom-color: var(--fill-color);\n",
              "    }\n",
              "  }\n",
              "</style>\n",
              "\n",
              "  <script>\n",
              "    async function quickchart(key) {\n",
              "      const quickchartButtonEl =\n",
              "        document.querySelector('#' + key + ' button');\n",
              "      quickchartButtonEl.disabled = true;  // To prevent multiple clicks.\n",
              "      quickchartButtonEl.classList.add('colab-df-spinner');\n",
              "      try {\n",
              "        const charts = await google.colab.kernel.invokeFunction(\n",
              "            'suggestCharts', [key], {});\n",
              "      } catch (error) {\n",
              "        console.error('Error during call to suggestCharts:', error);\n",
              "      }\n",
              "      quickchartButtonEl.classList.remove('colab-df-spinner');\n",
              "      quickchartButtonEl.classList.add('colab-df-quickchart-complete');\n",
              "    }\n",
              "    (() => {\n",
              "      let quickchartButtonEl =\n",
              "        document.querySelector('#df-33656747-5f44-4afb-9232-3db99689a394 button');\n",
              "      quickchartButtonEl.style.display =\n",
              "        google.colab.kernel.accessAllowed ? 'block' : 'none';\n",
              "    })();\n",
              "  </script>\n",
              "</div>\n",
              "\n",
              "    </div>\n",
              "  </div>\n"
            ],
            "application/vnd.google.colaboratory.intrinsic+json": {
              "type": "dataframe",
              "variable_name": "df",
              "summary": "{\n  \"name\": \"df\",\n  \"rows\": 1105,\n  \"fields\": [\n    {\n      \"column\": \"TIME 24 HOURS\",\n      \"properties\": {\n        \"dtype\": \"category\",\n        \"num_unique_values\": 196,\n        \"samples\": [\n          430,\n          1420,\n          1030\n        ],\n        \"semantic_type\": \"\",\n        \"description\": \"\"\n      }\n    },\n    {\n      \"column\": \"BASE/SUB BASE\",\n      \"properties\": {\n        \"dtype\": \"category\",\n        \"num_unique_values\": 210,\n        \"samples\": [\n          \"MOIS BRIDGE\",\n          \"TAVETA\",\n          \"KURIA\"\n        ],\n        \"semantic_type\": \"\",\n        \"description\": \"\"\n      }\n    },\n    {\n      \"column\": \"COUNTY\",\n      \"properties\": {\n        \"dtype\": \"category\",\n        \"num_unique_values\": 57,\n        \"samples\": [\n          \"MAKUENI\",\n          \"HOMA BAY\",\n          \"VIHIGA\"\n        ],\n        \"semantic_type\": \"\",\n        \"description\": \"\"\n      }\n    },\n    {\n      \"column\": \"ROAD\",\n      \"properties\": {\n        \"dtype\": \"string\",\n        \"num_unique_values\": 706,\n        \"samples\": [\n          \"KISII KEROKA\",\n          \"OTHAYA-NYERI\",\n          \"WEBUYE BUNGOMA\"\n        ],\n        \"semantic_type\": \"\",\n        \"description\": \"\"\n      }\n    },\n    {\n      \"column\": \"PLACE\",\n      \"properties\": {\n        \"dtype\": \"string\",\n        \"num_unique_values\": 1015,\n        \"samples\": [\n          \"NAIVAS SPERMARKET\",\n          \"ADIEDO\",\n          \"NEAR KABETE ARMY BARRACKS\"\n        ],\n        \"semantic_type\": \"\",\n        \"description\": \"\"\n      }\n    },\n    {\n      \"column\": \"BRIEF ACCIDENT DETAILS\",\n      \"properties\": {\n        \"dtype\": \"category\",\n        \"num_unique_values\": 466,\n        \"samples\": [\n          \"THE VEHICLE POWER FAILED AND ROLLED\",\n          \"THE VEHICLE LOST CONTROL AND VEERED AND KNOCKED DOWN THE VICTIM\",\n          \"THE VEHICLE LOST CONTROL AND KNOCKED DOWN THE VICTIM\"\n        ],\n        \"semantic_type\": \"\",\n        \"description\": \"\"\n      }\n    },\n    {\n      \"column\": \"VICTIM\",\n      \"properties\": {\n        \"dtype\": \"category\",\n        \"num_unique_values\": 53,\n        \"samples\": [\n          \"P/PASSENGERS\",\n          \"M/CYLIST & P/PASSENGER\",\n          \"1 DRIVER & 2 PASSENGERS\"\n        ],\n        \"semantic_type\": \"\",\n        \"description\": \"\"\n      }\n    },\n    {\n      \"column\": \"GENDER\",\n      \"properties\": {\n        \"dtype\": \"category\",\n        \"num_unique_values\": 3,\n        \"samples\": [\n          \"M\",\n          \"M & F\",\n          \"F\"\n        ],\n        \"semantic_type\": \"\",\n        \"description\": \"\"\n      }\n    },\n    {\n      \"column\": \"NO.\",\n      \"properties\": {\n        \"dtype\": \"number\",\n        \"std\": 0,\n        \"min\": 1,\n        \"max\": 18,\n        \"num_unique_values\": 10,\n        \"samples\": [\n          18,\n          3,\n          4\n        ],\n        \"semantic_type\": \"\",\n        \"description\": \"\"\n      }\n    },\n    {\n      \"column\": \"Date DD/MM/YYYY\",\n      \"properties\": {\n        \"dtype\": \"date\",\n        \"min\": \"2016-04-01 00:00:00\",\n        \"max\": \"2017-11-06 00:00:00\",\n        \"num_unique_values\": 169,\n        \"samples\": [\n          \"2017-05-14 00:00:00\",\n          \"2016-04-21 00:00:00\",\n          \"2017-07-03 00:00:00\"\n        ],\n        \"semantic_type\": \"\",\n        \"description\": \"\"\n      }\n    },\n    {\n      \"column\": \"Cause_of_Accident\",\n      \"properties\": {\n        \"dtype\": \"category\",\n        \"num_unique_values\": 5,\n        \"samples\": [\n          \"Mechanical Failure / Vehicle Condition\",\n          \"Road Infrastructure / Environmental Factors\",\n          \"Human Error (Hitch hiker,conductor/passenger fall)\"\n        ],\n        \"semantic_type\": \"\",\n        \"description\": \"\"\n      }\n    }\n  ]\n}"
            }
          },
          "metadata": {},
          "execution_count": 8
        }
      ]
    },
    {
      "cell_type": "code",
      "source": [
        "# Data Transformation:\n",
        "# Group data by cause and total fatalities.\n",
        "# Create a severity score (e.g., deaths per accident per cause)."
      ],
      "metadata": {
        "id": "qhpr7nzbNyfg"
      },
      "execution_count": 9,
      "outputs": []
    },
    {
      "cell_type": "markdown",
      "source": [
        "#**Data** **Transformation**\n",
        "Group data by cause and total fatalities.\n",
        "Create a severity score (e.g., deaths per accident per cause)."
      ],
      "metadata": {
        "id": "I2RgaFz_bPxa"
      }
    },
    {
      "cell_type": "code",
      "source": [
        "# Group data by cause and total fatalities - Rename COLUMN (No.) to (Total Fatalities)\n",
        "Fatalities = KE_Accidents.groupby('Cause_of_Accident', as_index=False).agg({'NO.': 'sum'}).rename(columns={'NO.': 'Total Fatalities'})\n",
        "print(Fatalities)\n",
        "# df.head()"
      ],
      "metadata": {
        "colab": {
          "base_uri": "https://localhost:8080/"
        },
        "id": "nykZJRgaNymp",
        "outputId": "0e6de91d-54ce-4724-c91f-999c7f60a906"
      },
      "execution_count": 10,
      "outputs": [
        {
          "output_type": "stream",
          "name": "stdout",
          "text": [
            "                                   Cause_of_Accident  Total Fatalities\n",
            "0                      Human Error (Driver Behavior)              1076\n",
            "1  Human Error (Hitch hiker,conductor/passenger f...                44\n",
            "2             Mechanical Failure / Vehicle Condition               144\n",
            "3        Road Infrastructure / Environmental Factors                 1\n",
            "4                        Unspecified / Unknown Cause                37\n"
          ]
        }
      ]
    },
    {
      "cell_type": "code",
      "source": [
        "# Grouping by year\n",
        "# Extracting year data from date col\n",
        "KE_Accidents['Date DD/MM/YYYY'] = pd.to_datetime(KE_Accidents['Date DD/MM/YYYY'])\n",
        "\n",
        "# Extract year from 'Date' and store in new 'Year' column\n",
        "KE_Accidents['Year'] = KE_Accidents['Date DD/MM/YYYY'].dt.year\n",
        "\n",
        "# Group by year and sum up the 'NO.' column (fatalities)\n",
        "fatalities_by_year = KE_Accidents.groupby('Year', as_index=False).agg({'NO.': 'sum'})\n",
        "\n",
        "# Rename 'NO.' column to 'Total Fatalities'\n",
        "fatalities_by_year = fatalities_by_year.rename(columns={'NO.': 'Total Fatalities'})\n",
        "\n",
        "# Display the result\n",
        "print(fatalities_by_year)\n",
        "\n"
      ],
      "metadata": {
        "colab": {
          "base_uri": "https://localhost:8080/"
        },
        "id": "tYXUSkKCP59f",
        "outputId": "b7dd58cb-506a-463e-af3c-9a43fa1fda51"
      },
      "execution_count": 11,
      "outputs": [
        {
          "output_type": "stream",
          "name": "stdout",
          "text": [
            "   Year  Total Fatalities\n",
            "0  2016               423\n",
            "1  2017               879\n"
          ]
        }
      ]
    },
    {
      "cell_type": "code",
      "source": [
        "# Grouping by gender\n",
        "# fatalities_by_gender = KE_Accidents.groupby('Gender', as_index=False).agg({'NO.': 'sum'})\n",
        "# fatalities_by_gender = fatalities_by_gender.rename(columns={'NO.': 'Total Fatalities'})\n",
        "\n",
        "# # Identify the gender with the highest fatalities\n",
        "# most_affected_gender = fatalities_by_gender.loc[fatalities_by_gender['Total Fatalities'].idxmax()]\n",
        "# print(fatalities_by_gender)\n",
        "# print(\"\\nMost affected gender:\")\n",
        "# print(most_affected_gender)\n"
      ],
      "metadata": {
        "id": "7RXJGItlSImX"
      },
      "execution_count": null,
      "outputs": []
    },
    {
      "cell_type": "code",
      "source": [
        "# Define a severity score\n",
        "severity = KE_Accidents.groupby('Cause_of_Accident').agg(\n",
        "    Total_Fatalities=('NO.', 'sum'),\n",
        "    Total_Accidents=('NO.', 'count')\n",
        ").reset_index()\n",
        "\n",
        "# Compute severity score\n",
        "severity['Severity Score'] = severity['Total_Fatalities'] / severity['Total_Accidents']\n",
        "severity = severity .sort_values(by='Severity Score', ascending=False)\n",
        "print(severity.to_string(index=False))\n",
        "\n"
      ],
      "metadata": {
        "colab": {
          "base_uri": "https://localhost:8080/"
        },
        "id": "_zRxIQOqTe_Z",
        "outputId": "902a5088-0481-433c-ad0e-104cab63c7a4"
      },
      "execution_count": 12,
      "outputs": [
        {
          "output_type": "stream",
          "name": "stdout",
          "text": [
            "                                 Cause_of_Accident  Total_Fatalities  Total_Accidents  Severity Score\n",
            "            Mechanical Failure / Vehicle Condition               144              111        1.297297\n",
            "                     Human Error (Driver Behavior)              1076              922        1.167028\n",
            "Human Error (Hitch hiker,conductor/passenger fall)                44               38        1.157895\n",
            "                       Unspecified / Unknown Cause                37               33        1.121212\n",
            "       Road Infrastructure / Environmental Factors                 1                1        1.000000\n"
          ]
        }
      ]
    },
    {
      "cell_type": "code",
      "source": [
        "# A score > 1 means that, on average, more than one person died in each accident of that type.\n",
        "\n",
        "# A score ≈ 1 means roughly one person died per accident.\n",
        "\n",
        "# A lower score (< 1) would mean fewer fatalities per accident.\n",
        "\n",
        "# Even though human error kills more people overall, mechanical failures are deadlier when they happen."
      ],
      "metadata": {
        "id": "v9OylMiRV4FA"
      },
      "execution_count": null,
      "outputs": []
    },
    {
      "cell_type": "markdown",
      "source": [
        "# **Data Analysis**:\n",
        "Identify the most frequent and most deadly accident causes.\n",
        "Compare average severity scores across causes."
      ],
      "metadata": {
        "id": "d1KCY0Vlayel"
      }
    },
    {
      "cell_type": "code",
      "source": [
        "# Count occurrences of each cause\n",
        "Frequency = KE_Accidents['Cause_of_Accident'].value_counts().reset_index()\n",
        "print(Frequency)"
      ],
      "metadata": {
        "colab": {
          "base_uri": "https://localhost:8080/"
        },
        "id": "_zKa5eJxXjhM",
        "outputId": "e86bccfb-5503-4135-d46c-62706328c7b2"
      },
      "execution_count": 13,
      "outputs": [
        {
          "output_type": "stream",
          "name": "stdout",
          "text": [
            "                                   Cause_of_Accident  count\n",
            "0                      Human Error (Driver Behavior)    922\n",
            "1             Mechanical Failure / Vehicle Condition    111\n",
            "2  Human Error (Hitch hiker,conductor/passenger f...     38\n",
            "3                        Unspecified / Unknown Cause     33\n",
            "4        Road Infrastructure / Environmental Factors      1\n"
          ]
        }
      ]
    },
    {
      "cell_type": "code",
      "source": [
        "# Compare the severity score across causes\n",
        "severity['Severity Score'] = severity['Total_Fatalities'] / severity['Total_Accidents']\n",
        "severity = severity .sort_values(by='Severity Score', ascending=False)\n",
        "print(severity.to_string(index=False))"
      ],
      "metadata": {
        "colab": {
          "base_uri": "https://localhost:8080/"
        },
        "id": "S8DHGz6CckzR",
        "outputId": "52b6748f-37b5-4601-8f30-28861878437b"
      },
      "execution_count": 85,
      "outputs": [
        {
          "output_type": "stream",
          "name": "stdout",
          "text": [
            "                                 Cause_of_Accident  Total_Fatalities  Total_Accidents  Severity Score\n",
            "            Mechanical Failure / Vehicle Condition               144              111        1.297297\n",
            "                     Human Error (Driver Behavior)              1076              922        1.167028\n",
            "Human Error (Hitch hiker,conductor/passenger fall)                44               38        1.157895\n",
            "                       Unspecified / Unknown Cause                37               33        1.121212\n",
            "       Road Infrastructure / Environmental Factors                 1                1        1.000000\n"
          ]
        }
      ]
    },
    {
      "cell_type": "markdown",
      "source": [
        "#**Data Visualization:**\n",
        "\n",
        "Create a horizontal bar chart showing causes vs. total deaths.\n",
        "Use a scatter plot to compare frequency vs. severity for each cause.\n"
      ],
      "metadata": {
        "id": "bDcDRySMcmgd"
      }
    },
    {
      "cell_type": "code",
      "source": [
        "import matplotlib.pyplot as plt\n",
        "\n",
        "# Replace missing values in 'NO.' with 0\n",
        "KE_Accidents['NO.'] = KE_Accidents['NO.'].fillna(0)\n",
        "\n",
        "# Grouping by cause of accident and summing deaths\n",
        "grouped_data = KE_Accidents.groupby('Cause_of_Accident', as_index=False)['NO.'].sum()\n",
        "\n",
        "# Sorting for better readability (optional)\n",
        "grouped_data = grouped_data.sort_values('NO.', ascending=True)\n",
        "\n",
        "# Plotting\n",
        "plt.figure(figsize=(10, 6))\n",
        "plt.barh(grouped_data['Cause_of_Accident'], grouped_data['NO.'], color='red')\n",
        "plt.title('Total Deaths by Cause of Accidents')\n",
        "plt.xlabel('Total Deaths')\n",
        "plt.ylabel('Accident Category')\n",
        "plt.gca().invert_yaxis()  # Invert y-axis for better readability\n",
        "plt.tight_layout()\n",
        "plt.show()\n"
      ],
      "metadata": {
        "colab": {
          "base_uri": "https://localhost:8080/",
          "height": 607
        },
        "id": "54-g3R5kqaAB",
        "outputId": "80ea3a5e-d07f-4d50-a7c0-21628b494e18"
      },
      "execution_count": 14,
      "outputs": [
        {
          "output_type": "display_data",
          "data": {
            "text/plain": [
              "<Figure size 1000x600 with 1 Axes>"
            ],
            "image/png": "[encoded data removed]"
          },
          "metadata": {}
        }
      ]
    },
    {
      "cell_type": "code",
      "source": [
        "# Horizontal Bar Chart showing causes vs total deaths\n",
        "import matplotlib.pyplot as plt\n",
        "KE_Accidents['NO.'] = KE_Accidents['NO.'].fillna(0)\n",
        "\n",
        "plt.figure(figsize=(10, 6))\n",
        "plt.barh(KE_Accidents['Cause_of_Accident'], KE_Accidents['NO.'], color='red')\n",
        "plt.title('Total Deaths by Cause of Accidents')\n",
        "plt.xlabel('Total Deaths')\n",
        "plt.ylabel('Accident Category')\n",
        "plt.gca().invert_yaxis()  # Invert y-axis for better readability\n",
        "plt.tight_layout()\n",
        "plt.show()"
      ],
      "metadata": {
        "colab": {
          "base_uri": "https://localhost:8080/",
          "height": 607
        },
        "id": "JhZIDsqcdDs5",
        "outputId": "305c45ef-e8b7-435e-9e5a-688ee3311c70"
      },
      "execution_count": 95,
      "outputs": [
        {
          "output_type": "display_data",
          "data": {
            "text/plain": [
              "<Figure size 1000x600 with 1 Axes>"
            ],
            "image/png": "[encoded data removed]"
          },
          "metadata": {}
        }
      ]
    },
    {
      "cell_type": "code",
      "source": [
        "# Scatter plot\n",
        "import matplotlib.pyplot as plt\n",
        "import seaborn as sns\n",
        "\n",
        "plt.figure(figsize=(10, 6))\n",
        "sns.scatterplot(\n",
        "    x=severity['Total_Accidents'],\n",
        "    y=severity['Severity Score'],\n",
        "    hue=severity['Cause_of_Accident'],\n",
        "    palette='viridis',\n",
        "    s=100\n",
        ")\n",
        "plt.title('Frequency vs. Severity of Accident Causes', fontsize=14)\n",
        "plt.xlabel('Total Accidents (Frequency)', fontsize=12)\n",
        "plt.ylabel('Severity (Fatalities per Accident)', fontsize=12)\n",
        "plt.legend(bbox_to_anchor=(1.05, 1), loc='upper left', title='Cause')\n",
        "plt.tight_layout()\n",
        "plt.show()"
      ],
      "metadata": {
        "colab": {
          "base_uri": "https://localhost:8080/",
          "height": 607
        },
        "id": "iwGBEoB1dhAS",
        "outputId": "240cbf9e-966c-4a06-e79a-7fff9824b8eb"
      },
      "execution_count": 15,
      "outputs": [
        {
          "output_type": "display_data",
          "data": {
            "text/plain": [
              "<Figure size 1000x600 with 1 Axes>"
            ],
            "image/png": "[encoded data removed]"
          },
          "metadata": {}
        }
      ]
    }
  ]
}